{
 "cells": [
  {
   "cell_type": "markdown",
   "metadata": {},
   "source": [
    "# Scraping LuluLemon"
   ]
  },
  {
   "cell_type": "markdown",
   "metadata": {},
   "source": [
    "### Import Statements\n",
    "##### Imports selenium for browser simulation & web element scraping\n",
    "##### Pandas to export as .csv file\n",
    "##### Time to have program wait for products to load"
   ]
  },
  {
   "cell_type": "code",
   "execution_count": 308,
   "metadata": {
    "collapsed": true
   },
   "outputs": [],
   "source": [
    "import time\n",
    "from selenium import webdriver\n",
    "from selenium.webdriver.support.ui import WebDriverWait\n",
    "from selenium.webdriver.common.keys import Keys\n",
    "from selenium.webdriver.support.ui import Select\n",
    "from selenium.webdriver.support import expected_conditions as EC\n",
    "from selenium.webdriver.common.by import By\n",
    "import pandas as pd"
   ]
  },
  {
   "cell_type": "markdown",
   "metadata": {},
   "source": [
    "### Links for product types"
   ]
  },
  {
   "cell_type": "code",
   "execution_count": 309,
   "metadata": {
    "collapsed": true
   },
   "outputs": [],
   "source": [
    "pants = \"https://shop.lululemon.com/c/women-pants/_/N-7yh?mnid=mn;en-US-JSON;women;bottoms;pants\"\n",
    "tankTops = \"https://shop.lululemon.com/c/women-tanks/_/N-81a?Nrpp=9&icid=US\"\n",
    "sportsBras = \"https://shop.lululemon.com/c/women-sports-bras/_/N-816?mnid=mn;en-US-JSON;women;tops;bras\"\n",
    "shortSleeves = \"https://shop.lululemon.com/c/tops-short-sleeve/_/N-8bl?mnid=mn;en-US-JSON;women;tops;short-sleeves\"\n",
    "sweaters = \"https://shop.lululemon.com/c/women-sweaters-and-wraps/_/N-8bn?mnid=mn;en-US-JSON;women;tops;sweaters\"\n",
    "outerwear = \"https://shop.lululemon.com/c/jackets-and-hoodies-jackets/_/N-8a1?mnid=mn;en-US-JSON;women;tops;jackets-+-outerwear\"\n",
    "bathingSuitTops = \"https://shop.lululemon.com/c/tops-swim/_/N-8bj?mnid=mn;en-US-JSON;women;tops;swim\"\n",
    "crops = \"https://shop.lululemon.com/c/women-crops/_/N-7yr?mnid=mn;en-US-JSON;women;bottoms;crops\"\n",
    "shorts = \"https://shop.lululemon.com/c/women-shorts/_/N-7yv?mnid=mn;en-US-JSON;women;bottoms;shorts\"\n",
    "skirts = \"https://shop.lululemon.com/c/skirts-and-dresses-skirts/_/N-8bs?mnid=mn;en-US-JSON;women;bottoms;skirts\"\n",
    "bathingSuitBottoms = \"https://shop.lululemon.com/c/bottoms-swim/_/N-8br?mnid=mn;en-US-JSON;women;bottoms;swim\""
   ]
  },
  {
   "cell_type": "markdown",
   "metadata": {},
   "source": [
    "#### Uses chrome driver to open new chrome window\n",
    "###### driver.get opens selected link"
   ]
  },
  {
   "cell_type": "code",
   "execution_count": 310,
   "metadata": {
    "collapsed": true
   },
   "outputs": [],
   "source": [
    "driver = webdriver.Chrome(executable_path='./chromedriver')\n",
    "driver.get(pants)"
   ]
  },
  {
   "cell_type": "markdown",
   "metadata": {},
   "source": [
    "### Scrapes stated number of products on page \n",
    "#### converts that string into number"
   ]
  },
  {
   "cell_type": "code",
   "execution_count": 311,
   "metadata": {
    "scrolled": true
   },
   "outputs": [
    {
     "name": "stdout",
     "output_type": "stream",
     "text": [
      "80\n"
     ]
    }
   ],
   "source": [
    "results = driver.find_element_by_css_selector('p.results').text\n",
    "results = results.replace(\" items\",\"\")\n",
    "results = int(results)\n",
    "print(results)"
   ]
  },
  {
   "cell_type": "markdown",
   "metadata": {},
   "source": [
    "### Until you scroll down on LuluLemon, not all items are being found \n",
    "##### this code compares how many products have loaded against how many products exist on page"
   ]
  },
  {
   "cell_type": "code",
   "execution_count": 313,
   "metadata": {
    "scrolled": true
   },
   "outputs": [
    {
     "data": {
      "text/plain": [
       "84"
      ]
     },
     "execution_count": 313,
     "metadata": {},
     "output_type": "execute_result"
    }
   ],
   "source": [
    "product_list = driver.find_element_by_xpath('//div[@class=\"product-list\"]') # gets container with all products\n",
    "while results > len(items): # while page has not yet loaded total products\n",
    "    driver.execute_script(\"window.scrollTo(0,10000000);\") # continues scrolling down to load more items\n",
    "    items = product_list.find_elements_by_css_selector('div.product-list-item') # finds each product in product list and puts into one list\n",
    "len(items) # check length of list to see how many items were scraped (will include ads)"
   ]
  },
  {
   "cell_type": "markdown",
   "metadata": {},
   "source": [
    "### Clears lists\n",
    "#### creates lists or clears lists if code has been run before"
   ]
  },
  {
   "cell_type": "code",
   "execution_count": 307,
   "metadata": {
    "collapsed": true
   },
   "outputs": [],
   "source": [
    "productNames = []\n",
    "productPrices = []\n",
    "productImages = []\n",
    "productURLs = []"
   ]
  },
  {
   "cell_type": "markdown",
   "metadata": {},
   "source": [
    "### Breaks down information within items and adds them to respective lists\n",
    "#### removes ad(s) information"
   ]
  },
  {
   "cell_type": "code",
   "execution_count": 304,
   "metadata": {
    "collapsed": true
   },
   "outputs": [
    {
     "name": "stdout",
     "output_type": "stream",
     "text": [
      "Ad\n",
      "Ad\n",
      "Ad\n",
      "Ad\n",
      "Ad\n",
      "Ad\n",
      "Ad\n",
      "Ad\n",
      "Ad\n",
      "Ad\n",
      "Ad\n",
      "Ad\n",
      "Ad\n",
      "Ad\n",
      "Ad\n",
      "Ad\n",
      "Ad\n",
      "Ad\n",
      "Ad\n",
      "Ad\n",
      "Ad\n",
      "Ad\n",
      "Ad\n",
      "Ad\n",
      "Ad\n",
      "Ad\n",
      "Ad\n",
      "Ad\n",
      "Ad\n",
      "Ad\n",
      "Ad\n",
      "Ad\n",
      "Ad\n",
      "Ad\n",
      "Ad\n",
      "Ad\n",
      "Ad\n",
      "Ad\n",
      "Ad\n",
      "Ad\n",
      "Ad\n",
      "Ad\n",
      "Ad\n",
      "Ad\n",
      "Ad\n",
      "Ad\n",
      "Ad\n",
      "Ad\n",
      "Ad\n",
      "Ad\n",
      "Ad\n",
      "Ad\n",
      "Ad\n",
      "Ad\n",
      "Ad\n",
      "Ad\n",
      "Ad\n",
      "Ad\n",
      "Ad\n",
      "Ad\n",
      "Ad\n",
      "Ad\n",
      "Ad\n",
      "Ad\n",
      "Ad\n",
      "Ad\n",
      "Ad\n",
      "Ad\n",
      "Ad\n",
      "Ad\n",
      "Ad\n",
      "Ad\n",
      "Ad\n",
      "Ad\n",
      "Ad\n",
      "Ad\n",
      "Ad\n",
      "Ad\n",
      "Ad\n",
      "Ad\n",
      "Ad\n",
      "Ad\n",
      "Ad\n",
      "Ad\n"
     ]
    }
   ],
   "source": [
    "for each in items:\n",
    "    try:\n",
    "        productNames.append(each.find_element_by_class_name('product-name').text) # adds product name to the end of the productNames list\n",
    "        productPrices.append(each.find_element_by_class_name('product-price').text) # adds product price to the end of the productPrices list\n",
    "        productImages.append(each.find_element_by_class_name('default-image').get_attribute('src')) #gets image source\n",
    "        productURLs.append(each.find_element_by_tag_name('a').get_attribute('href')) #gets pdp source\n",
    "    except:\n",
    "        print(\"Ad\")\n"
   ]
  },
  {
   "cell_type": "markdown",
   "metadata": {},
   "source": [
    "### States length of each list (should be equivalent to how many products there are in total and each list should be the same length)"
   ]
  },
  {
   "cell_type": "code",
   "execution_count": 1,
   "metadata": {
    "collapsed": true
   },
   "outputs": [
    {
     "ename": "NameError",
     "evalue": "name 'productNames' is not defined",
     "output_type": "error",
     "traceback": [
      "\u001b[0;31m---------------------------------------------------------------------------\u001b[0m",
      "\u001b[0;31mNameError\u001b[0m                                 Traceback (most recent call last)",
      "\u001b[0;32m<ipython-input-1-389e5ef4643a>\u001b[0m in \u001b[0;36m<module>\u001b[0;34m()\u001b[0m\n\u001b[0;32m----> 1\u001b[0;31m \u001b[0mprint\u001b[0m\u001b[0;34m(\u001b[0m\u001b[0mlen\u001b[0m\u001b[0;34m(\u001b[0m\u001b[0mproductNames\u001b[0m\u001b[0;34m)\u001b[0m\u001b[0;34m)\u001b[0m\u001b[0;34m\u001b[0m\u001b[0m\n\u001b[0m\u001b[1;32m      2\u001b[0m \u001b[0mprint\u001b[0m\u001b[0;34m(\u001b[0m\u001b[0mlen\u001b[0m\u001b[0;34m(\u001b[0m\u001b[0mproductPrices\u001b[0m\u001b[0;34m)\u001b[0m\u001b[0;34m)\u001b[0m\u001b[0;34m\u001b[0m\u001b[0m\n\u001b[1;32m      3\u001b[0m \u001b[0mprint\u001b[0m\u001b[0;34m(\u001b[0m\u001b[0mlen\u001b[0m\u001b[0;34m(\u001b[0m\u001b[0mproductImages\u001b[0m\u001b[0;34m)\u001b[0m\u001b[0;34m)\u001b[0m\u001b[0;34m\u001b[0m\u001b[0m\n\u001b[1;32m      4\u001b[0m \u001b[0mprint\u001b[0m\u001b[0;34m(\u001b[0m\u001b[0mlen\u001b[0m\u001b[0;34m(\u001b[0m\u001b[0mproductURLs\u001b[0m\u001b[0;34m)\u001b[0m\u001b[0;34m)\u001b[0m\u001b[0;34m\u001b[0m\u001b[0m\n",
      "\u001b[0;31mNameError\u001b[0m: name 'productNames' is not defined"
     ]
    }
   ],
   "source": [
    "print(len(productNames))\n",
    "print(len(productPrices))\n",
    "print(len(productImages))\n",
    "print(len(productURLs))"
   ]
  },
  {
   "cell_type": "markdown",
   "metadata": {},
   "source": [
    "### Printing info in lists"
   ]
  },
  {
   "cell_type": "code",
   "execution_count": 249,
   "metadata": {
    "collapsed": true
   },
   "outputs": [],
   "source": [
    "for each in range(0,len(productNames),1): # range parameters are (where it should start in the list, until the last spot you want in the list, interval you want to move in)\n",
    "    print(productNames[each],productPrices[each],productImages[each],productURLs[each])"
   ]
  },
  {
   "cell_type": "markdown",
   "metadata": {},
   "source": [
    "### Creating new lists with cleaned product names and prices"
   ]
  },
  {
   "cell_type": "code",
   "execution_count": 250,
   "metadata": {
    "collapsed": true
   },
   "outputs": [],
   "source": [
    "cleanedProductNames = []\n",
    "cleanedProductPrices = []\n",
    "\n",
    "for each in productNames: # replacing \\n with a space and appending it to new list. if it doesn't have \\n then it just appends to the list\n",
    "    if '\\n' in each:\n",
    "        temp = each.replace('\\n',' ')\n",
    "        cleanedProductNames.append(temp)\n",
    "    else:\n",
    "        cleanedProductNames.append(each)\n",
    "        \n",
    "for each in productPrices: # removing USD and appending to new list. if doesnt have USD then it just appends to the list\n",
    "    if ' USD' in each:\n",
    "        temp = each.replace(' USD','')\n",
    "        cleanedProductPrices.append(temp)\n",
    "    else:\n",
    "        cleanedProductPrices.append(each)"
   ]
  },
  {
   "cell_type": "markdown",
   "metadata": {},
   "source": [
    "### Putting all this info into a table"
   ]
  },
  {
   "cell_type": "code",
   "execution_count": 251,
   "metadata": {
    "collapsed": true
   },
   "outputs": [
    {
     "data": {
      "text/html": [
       "<div>\n",
       "<style scoped>\n",
       "    .dataframe tbody tr th:only-of-type {\n",
       "        vertical-align: middle;\n",
       "    }\n",
       "\n",
       "    .dataframe tbody tr th {\n",
       "        vertical-align: top;\n",
       "    }\n",
       "\n",
       "    .dataframe thead th {\n",
       "        text-align: right;\n",
       "    }\n",
       "</style>\n",
       "<table border=\"1\" class=\"dataframe\">\n",
       "  <thead>\n",
       "    <tr style=\"text-align: right;\">\n",
       "      <th></th>\n",
       "      <th>Product Title</th>\n",
       "      <th>List Price</th>\n",
       "      <th>Image Link</th>\n",
       "      <th>Retail Link</th>\n",
       "    </tr>\n",
       "  </thead>\n",
       "  <tbody>\n",
       "  </tbody>\n",
       "</table>\n",
       "</div>"
      ],
      "text/plain": [
       "Empty DataFrame\n",
       "Columns: [Product Title, List Price, Image Link, Retail Link]\n",
       "Index: []"
      ]
     },
     "execution_count": 251,
     "metadata": {},
     "output_type": "execute_result"
    }
   ],
   "source": [
    "data = {'Product Title': cleanedProductNames, 'List Price': cleanedProductPrices, 'Image Link': productImages, 'Retail Link': productURLs}\n",
    "# titling the columns and telling it what lists you want under each title\n",
    "SSInfo = pd.DataFrame(data=data)  # naming data table\n",
    "SSInfo #printing data table"
   ]
  },
  {
   "cell_type": "markdown",
   "metadata": {},
   "source": [
    "### Downloading this data into a csv file"
   ]
  },
  {
   "cell_type": "code",
   "execution_count": 252,
   "metadata": {
    "collapsed": true
   },
   "outputs": [],
   "source": [
    "SSInfo.to_csv('Lululemon.csv')"
   ]
  }
 ],
 "metadata": {
  "kernelspec": {
   "display_name": "Python 3",
   "language": "python",
   "name": "python3"
  },
  "language_info": {
   "codemirror_mode": {
    "name": "ipython",
    "version": 3
   },
   "file_extension": ".py",
   "mimetype": "text/x-python",
   "name": "python",
   "nbconvert_exporter": "python",
   "pygments_lexer": "ipython3",
   "version": "3.6.3"
  }
 },
 "nbformat": 4,
 "nbformat_minor": 2
}
