{
 "cells": [
  {
   "cell_type": "markdown",
   "metadata": {},
   "source": [
    "## Import Statements"
   ]
  },
  {
   "cell_type": "code",
   "execution_count": 15,
   "metadata": {
    "collapsed": true
   },
   "outputs": [],
   "source": [
    "import pandas as pd\n",
    "import numpy as np\n",
    "import matplotlib.pyplot as plt\n",
    "\n",
    "from sklearn.feature_extraction.text import CountVectorizer, TfidfVectorizer\n",
    "from sklearn import svm\n",
    "\n",
    "from imblearn.over_sampling import RandomOverSampler\n",
    "from imblearn.over_sampling import SMOTE, ADASYN\n",
    "\n",
    "from sklearn.linear_model import LogisticRegression\n",
    "from sklearn_pandas import DataFrameMapper\n",
    "\n",
    "from sklearn.naive_bayes import MultinomialNB\n",
    "\n",
    "from sklearn.model_selection import train_test_split\n",
    "\n",
    "from scipy import sparse as sp\n"
   ]
  },
  {
   "cell_type": "markdown",
   "metadata": {
    "collapsed": true
   },
   "source": [
    "## Load the Data"
   ]
  },
  {
   "cell_type": "code",
   "execution_count": 16,
   "metadata": {},
   "outputs": [
    {
     "data": {
      "text/html": [
       "<div>\n",
       "<style>\n",
       "    .dataframe thead tr:only-child th {\n",
       "        text-align: right;\n",
       "    }\n",
       "\n",
       "    .dataframe thead th {\n",
       "        text-align: left;\n",
       "    }\n",
       "\n",
       "    .dataframe tbody tr th {\n",
       "        vertical-align: top;\n",
       "    }\n",
       "</style>\n",
       "<table border=\"1\" class=\"dataframe\">\n",
       "  <thead>\n",
       "    <tr style=\"text-align: right;\">\n",
       "      <th></th>\n",
       "      <th>Author</th>\n",
       "      <th>Author Name Length</th>\n",
       "      <th>Clean Title</th>\n",
       "      <th>Cleaned Text</th>\n",
       "      <th>Date</th>\n",
       "      <th>Is Guest</th>\n",
       "      <th>Negative Sentiment Score of Text</th>\n",
       "      <th>Negative Sentiment Score of Title</th>\n",
       "      <th>Positive Sentiment Score of Text</th>\n",
       "      <th>Positive Sentiment Score of Title</th>\n",
       "      <th>Rating</th>\n",
       "      <th>Review Length (char)</th>\n",
       "      <th>SentimentWords</th>\n",
       "      <th>Text</th>\n",
       "      <th>Title</th>\n",
       "      <th>Words In Author Name</th>\n",
       "      <th>Words in Review</th>\n",
       "    </tr>\n",
       "  </thead>\n",
       "  <tbody>\n",
       "    <tr>\n",
       "      <th>0</th>\n",
       "      <td>Scott</td>\n",
       "      <td>5</td>\n",
       "      <td>[Five, Stars]</td>\n",
       "      <td>[great, little, flashlight, bright, buy]</td>\n",
       "      <td>2018-04-16</td>\n",
       "      <td>0</td>\n",
       "      <td>0.375</td>\n",
       "      <td>0.000</td>\n",
       "      <td>0.125</td>\n",
       "      <td>0.000</td>\n",
       "      <td>5</td>\n",
       "      <td>53</td>\n",
       "      <td>1</td>\n",
       "      <td>Great little flashlight bright will buy</td>\n",
       "      <td>Five Stars</td>\n",
       "      <td>1</td>\n",
       "      <td>8</td>\n",
       "    </tr>\n",
       "    <tr>\n",
       "      <th>1</th>\n",
       "      <td>ALFRED W</td>\n",
       "      <td>8</td>\n",
       "      <td>[Works, good, on, 1.2, volt, Rechargeable, Ni-...</td>\n",
       "      <td>[nice, well, make, little, flashlight, work, g...</td>\n",
       "      <td>2018-04-15</td>\n",
       "      <td>0</td>\n",
       "      <td>0.375</td>\n",
       "      <td>0.000</td>\n",
       "      <td>2.250</td>\n",
       "      <td>1.375</td>\n",
       "      <td>5</td>\n",
       "      <td>90</td>\n",
       "      <td>1</td>\n",
       "      <td>Nice made little flashlight work good volt rec...</td>\n",
       "      <td>Works good on 1.2 volt Rechargeable Ni-Mh Batt...</td>\n",
       "      <td>2</td>\n",
       "      <td>14</td>\n",
       "    </tr>\n",
       "    <tr>\n",
       "      <th>10</th>\n",
       "      <td>CS McCulloh</td>\n",
       "      <td>11</td>\n",
       "      <td>[Five, Stars]</td>\n",
       "      <td>[really, good, price]</td>\n",
       "      <td>2018-04-13</td>\n",
       "      <td>0</td>\n",
       "      <td>0.000</td>\n",
       "      <td>0.000</td>\n",
       "      <td>0.750</td>\n",
       "      <td>0.000</td>\n",
       "      <td>5</td>\n",
       "      <td>26</td>\n",
       "      <td>1</td>\n",
       "      <td>good price</td>\n",
       "      <td>Five Stars</td>\n",
       "      <td>2</td>\n",
       "      <td>5</td>\n",
       "    </tr>\n",
       "    <tr>\n",
       "      <th>100</th>\n",
       "      <td>Suki</td>\n",
       "      <td>4</td>\n",
       "      <td>[Good, on, batteries]</td>\n",
       "      <td>[these, come, handy, hurricane, irma, live, or...</td>\n",
       "      <td>2018-03-28</td>\n",
       "      <td>0</td>\n",
       "      <td>0.875</td>\n",
       "      <td>0.000</td>\n",
       "      <td>1.375</td>\n",
       "      <td>0.750</td>\n",
       "      <td>5</td>\n",
       "      <td>439</td>\n",
       "      <td>1</td>\n",
       "      <td>came handy Hurricane Irma live Orlando lost po...</td>\n",
       "      <td>Good on batteries</td>\n",
       "      <td>1</td>\n",
       "      <td>81</td>\n",
       "    </tr>\n",
       "    <tr>\n",
       "      <th>1000</th>\n",
       "      <td>David H. Chiang</td>\n",
       "      <td>15</td>\n",
       "      <td>[awesome]</td>\n",
       "      <td>[seriously, amazing, price, use, 1, battery, a...</td>\n",
       "      <td>2013-12-25</td>\n",
       "      <td>0</td>\n",
       "      <td>0.625</td>\n",
       "      <td>0.125</td>\n",
       "      <td>1.375</td>\n",
       "      <td>0.875</td>\n",
       "      <td>5</td>\n",
       "      <td>161</td>\n",
       "      <td>1</td>\n",
       "      <td>amazing price using battery is fantastic have ...</td>\n",
       "      <td>awesome</td>\n",
       "      <td>3</td>\n",
       "      <td>28</td>\n",
       "    </tr>\n",
       "  </tbody>\n",
       "</table>\n",
       "</div>"
      ],
      "text/plain": [
       "               Author  Author Name Length  \\\n",
       "0               Scott                   5   \n",
       "1            ALFRED W                   8   \n",
       "10        CS McCulloh                  11   \n",
       "100              Suki                   4   \n",
       "1000  David H. Chiang                  15   \n",
       "\n",
       "                                            Clean Title  \\\n",
       "0                                         [Five, Stars]   \n",
       "1     [Works, good, on, 1.2, volt, Rechargeable, Ni-...   \n",
       "10                                        [Five, Stars]   \n",
       "100                               [Good, on, batteries]   \n",
       "1000                                          [awesome]   \n",
       "\n",
       "                                           Cleaned Text       Date  Is Guest  \\\n",
       "0              [great, little, flashlight, bright, buy] 2018-04-16         0   \n",
       "1     [nice, well, make, little, flashlight, work, g... 2018-04-15         0   \n",
       "10                                [really, good, price] 2018-04-13         0   \n",
       "100   [these, come, handy, hurricane, irma, live, or... 2018-03-28         0   \n",
       "1000  [seriously, amazing, price, use, 1, battery, a... 2013-12-25         0   \n",
       "\n",
       "      Negative Sentiment Score of Text  Negative Sentiment Score of Title  \\\n",
       "0                                0.375                              0.000   \n",
       "1                                0.375                              0.000   \n",
       "10                               0.000                              0.000   \n",
       "100                              0.875                              0.000   \n",
       "1000                             0.625                              0.125   \n",
       "\n",
       "      Positive Sentiment Score of Text  Positive Sentiment Score of Title  \\\n",
       "0                                0.125                              0.000   \n",
       "1                                2.250                              1.375   \n",
       "10                               0.750                              0.000   \n",
       "100                              1.375                              0.750   \n",
       "1000                             1.375                              0.875   \n",
       "\n",
       "      Rating  Review Length (char)  SentimentWords  \\\n",
       "0          5                    53               1   \n",
       "1          5                    90               1   \n",
       "10         5                    26               1   \n",
       "100        5                   439               1   \n",
       "1000       5                   161               1   \n",
       "\n",
       "                                                   Text  \\\n",
       "0               Great little flashlight bright will buy   \n",
       "1     Nice made little flashlight work good volt rec...   \n",
       "10                                           good price   \n",
       "100   came handy Hurricane Irma live Orlando lost po...   \n",
       "1000  amazing price using battery is fantastic have ...   \n",
       "\n",
       "                                                  Title  Words In Author Name  \\\n",
       "0                                            Five Stars                     1   \n",
       "1     Works good on 1.2 volt Rechargeable Ni-Mh Batt...                     2   \n",
       "10                                           Five Stars                     2   \n",
       "100                                   Good on batteries                     1   \n",
       "1000                                            awesome                     3   \n",
       "\n",
       "      Words in Review  \n",
       "0                   8  \n",
       "1                  14  \n",
       "10                  5  \n",
       "100                81  \n",
       "1000               28  "
      ]
     },
     "execution_count": 16,
     "metadata": {},
     "output_type": "execute_result"
    }
   ],
   "source": [
    "df = pd.read_json('reviews.json')\n",
    "df.head(5)"
   ]
  },
  {
   "cell_type": "markdown",
   "metadata": {},
   "source": [
    "## Visualize the Data"
   ]
  },
  {
   "cell_type": "code",
   "execution_count": 11,
   "metadata": {
    "collapsed": true
   },
   "outputs": [],
   "source": [
    "Y = df['Rating']"
   ]
  },
  {
   "cell_type": "code",
   "execution_count": 18,
   "metadata": {
    "scrolled": true
   },
   "outputs": [
    {
     "data": {
      "image/png": "[encoded data removed]",
      "text/plain": [
       "<matplotlib.figure.Figure at 0x113bcada0>"
      ]
     },
     "metadata": {},
     "output_type": "display_data"
    }
   ],
   "source": [
    "five_star = df[df['Rating']==5]\n",
    "four_star = df[df['Rating']==4]\n",
    "three_star = df[df['Rating']==3]\n",
    "two_star = df[df['Rating']==2]\n",
    "one_star = df[df['Rating']==1]\n",
    "\n",
    "labels = '5-Star', '4-Star', '3-Star', '2-Star','1-Star'\n",
    "sizes = [len(five_star), len(four_star), len(three_star), len(two_star), len(one_star)]\n",
    "explode = (0.1, 0, 0, 0, 0)  # only \"explode\" 5 star\n",
    "\n",
    "fig1, ax1 = plt.subplots()\n",
    "ax1.pie(sizes, explode=explode, labels=labels, autopct='%1.1f%%',\n",
    "        shadow=True, startangle=90)\n",
    "ax1.axis('equal')  # Equal aspect ratio ensures that pie is drawn as a circle.\n",
    "\n",
    "plt.show()"
   ]
  },
  {
   "cell_type": "markdown",
   "metadata": {},
   "source": [
    "###### Shows Data is mostly 5-stars. Use Random Over Sampler to make sure training set does not always guess 5 stars. "
   ]
  },
  {
   "cell_type": "code",
   "execution_count": 12,
   "metadata": {},
   "outputs": [
    {
     "data": {
      "image/png": "[encoded data removed]",
      "text/plain": [
       "<matplotlib.figure.Figure at 0x1143a7898>"
      ]
     },
     "metadata": {},
     "output_type": "display_data"
    }
   ],
   "source": [
    "plt.scatter(df['Author Name Length'], Y)\n",
    "plt.show()"
   ]
  },
  {
   "cell_type": "code",
   "execution_count": 17,
   "metadata": {},
   "outputs": [
    {
     "data": {
      "image/png": "[encoded data removed]",
      "text/plain": [
       "<matplotlib.figure.Figure at 0x1a1eafa588>"
      ]
     },
     "metadata": {},
     "output_type": "display_data"
    }
   ],
   "source": [
    "plt.scatter(df['Positive Sentiment Score of Text'], Y)\n",
    "plt.show()"
   ]
  },
  {
   "cell_type": "code",
   "execution_count": 19,
   "metadata": {
    "scrolled": true
   },
   "outputs": [
    {
     "data": {
      "image/png": "[encoded data removed]",
      "text/plain": [
       "<matplotlib.figure.Figure at 0x113fe7668>"
      ]
     },
     "metadata": {},
     "output_type": "display_data"
    }
   ],
   "source": [
    "plt.scatter(df['Positive Sentiment Score of Title'], Y)\n",
    "plt.show()\n"
   ]
  },
  {
   "cell_type": "markdown",
   "metadata": {},
   "source": [
    "###### Positive Sentiment Score of Title doesn't not have a great correlation. Requires testing to see if it improves or worsens accuracy"
   ]
  },
  {
   "cell_type": "code",
   "execution_count": 20,
   "metadata": {},
   "outputs": [
    {
     "data": {
      "image/png": "[encoded data removed]",
      "text/plain": [
       "<matplotlib.figure.Figure at 0x1a1eaffdd8>"
      ]
     },
     "metadata": {},
     "output_type": "display_data"
    }
   ],
   "source": [
    "plt.scatter(df['Negative Sentiment Score of Title'], Y)\n",
    "plt.show()\n"
   ]
  },
  {
   "cell_type": "code",
   "execution_count": 21,
   "metadata": {},
   "outputs": [
    {
     "data": {
      "image/png": "[encoded data removed]",
      "text/plain": [
       "<matplotlib.figure.Figure at 0x1a1eeae5f8>"
      ]
     },
     "metadata": {},
     "output_type": "display_data"
    }
   ],
   "source": [
    "plt.scatter(df['Negative Sentiment Score of Text'], Y)\n",
    "plt.show()"
   ]
  },
  {
   "cell_type": "code",
   "execution_count": 22,
   "metadata": {
    "scrolled": true
   },
   "outputs": [
    {
     "data": {
      "image/png": "[encoded data removed]",
      "text/plain": [
       "<matplotlib.figure.Figure at 0x1a1ee774a8>"
      ]
     },
     "metadata": {},
     "output_type": "display_data"
    }
   ],
   "source": [
    "plt.scatter(df['Review Length (char)'], Y)\n",
    "plt.show()"
   ]
  },
  {
   "cell_type": "markdown",
   "metadata": {},
   "source": [
    "###### Above: Review Length by character seems to have some correlation to 5 star ratings"
   ]
  },
  {
   "cell_type": "code",
   "execution_count": 25,
   "metadata": {},
   "outputs": [
    {
     "data": {
      "image/png": "[encoded data removed]",
      "text/plain": [
       "<matplotlib.figure.Figure at 0x1a1ed7d0b8>"
      ]
     },
     "metadata": {},
     "output_type": "display_data"
    }
   ],
   "source": [
    "positive_reviews = df.loc[df['Rating'].isin([4,5])]\n",
    "negative_reviews = df.loc[df['Rating'].isin([1,2])]\n",
    "neutral_reviews = df.loc[df['Rating'] == 3]\n",
    "len(positive_reviews)/len(df)\n",
    "\n",
    "labels = 'Positive Reviews: 4 or 5', 'Neutral Reviews: 3', 'Negative Reviews: 1 or 2'\n",
    "sizes = [len(positive_reviews), len(neutral_reviews), len(negative_reviews)]\n",
    "explode = (0.1, 0, 0)  # only \"explode\" positives\n",
    "\n",
    "fig1, ax1 = plt.subplots()\n",
    "ax1.pie(sizes, explode=explode, labels=labels, autopct='%1.1f%%',\n",
    "        shadow=True, startangle=90)\n",
    "ax1.axis('equal')  # Equal aspect ratio ensures that pie is drawn as a circle.\n",
    "\n",
    "plt.show()"
   ]
  },
  {
   "cell_type": "code",
   "execution_count": 26,
   "metadata": {
    "collapsed": true
   },
   "outputs": [],
   "source": [
    "numbers = {'one':1, 'two':2, 'three':3,'four':4, 'five':5}\n",
    "df['Star In Title'] = df['Title'].apply(lambda x: True if 'star' in x.lower() and (num in x.lower() for num in numbers.keys()) else False)\n",
    "def getNumbers(x):\n",
    "    lowered = x.lower()\n",
    "    retVal = 0\n",
    "    if 'star' in lowered:\n",
    "        for x in numbers.keys():\n",
    "            if x in lowered:\n",
    "                retVal = numbers[x]\n",
    "    return retVal\n",
    "df['Star Num'] = df['Title'].apply(getNumbers)\n",
    "df[df['Star In Title']].count()\n",
    "df['Star In Title'] = df['Star In Title'].apply(lambda x: 1 if x == True else 0)"
   ]
  },
  {
   "cell_type": "code",
   "execution_count": 53,
   "metadata": {
    "collapsed": true
   },
   "outputs": [],
   "source": [
    "df['Title and Body'] = df['Clean Title'] + df['Cleaned Text'] #Combine Title and Body for easier use if needed"
   ]
  },
  {
   "cell_type": "code",
   "execution_count": null,
   "metadata": {
    "collapsed": true
   },
   "outputs": [],
   "source": [
    "### Slice for TF-IDF"
   ]
  },
  {
   "cell_type": "code",
   "execution_count": 37,
   "metadata": {
    "collapsed": true
   },
   "outputs": [],
   "source": [
    "sliced = df[['Text', 'Rating', 'Star In Title', 'Star Num', 'Title', 'Author Name Length', 'Cleaned Text', 'Title and Body','Positive Sentiment Score of Text', 'Positive Sentiment Score of Title', 'Negative Sentiment Score of Text', 'Review Length (char)']]"
   ]
  },
  {
   "cell_type": "markdown",
   "metadata": {},
   "source": [
    "## Data Learning\n"
   ]
  },
  {
   "cell_type": "markdown",
   "metadata": {},
   "source": [
    "### Accuracy Function\n",
    "###### Factors how close all predictions are to target instead of just Right or Wrong"
   ]
  },
  {
   "cell_type": "code",
   "execution_count": 62,
   "metadata": {
    "collapsed": true
   },
   "outputs": [],
   "source": [
    "def getAccuracy():\n",
    "    test['Difference'] = test['Rating'] - test['predictions']\n",
    "    sumOfDiff = 0\n",
    "    for each in test['Difference']:\n",
    "        sumOfDiff += abs(each)\n",
    "        accuracy = 1-((sumOfDiff/len(test))/5) #gets average different among test and prediction and divides by 5. Then subtracts that from 1 to find the percent accuracy   \n",
    "    print(accuracy)    \n",
    "    "
   ]
  },
  {
   "cell_type": "markdown",
   "metadata": {},
   "source": [
    "\n",
    "# Naive Bayes\n",
    "### Model #1\n",
    "### Mapper for NB\n",
    "###### Max Features at approx. 1500 gives best result."
   ]
  },
  {
   "cell_type": "code",
   "execution_count": 41,
   "metadata": {
    "collapsed": true
   },
   "outputs": [],
   "source": [
    "mapperNB = DataFrameMapper([\n",
    "    (['Review Length (char)','Positive Sentiment Score of Text', 'Negative Sentiment Score of Text','Positive Sentiment Score of Title'], None),\n",
    "    ('Text', TfidfVectorizer(analyzer=\"word\", \n",
    "                             max_features=1500, \n",
    "                             tokenizer=None,    \n",
    "                             preprocessor=None, \n",
    "                             stop_words='english',\n",
    "                               \n",
    "                         )),\n",
    "        ('Title', TfidfVectorizer(analyzer=\"word\", \n",
    "                             max_features=1500, \n",
    "                             tokenizer=None,    \n",
    "                             preprocessor=None, \n",
    "                             stop_words=None, # English Stop-words hurt accuracy from title\n",
    "                             ngram_range=(1,2),  #ngrams of monograms and bigrams improved score.\n",
    "                         )),\n",
    "])\n",
    "\n"
   ]
  },
  {
   "cell_type": "markdown",
   "metadata": {},
   "source": [
    "### Naive Bayes using most features. And Tuned Hyperparams.\n",
    "#### Averaged over 50 Trials"
   ]
  },
  {
   "cell_type": "code",
   "execution_count": 42,
   "metadata": {},
   "outputs": [
    {
     "name": "stdout",
     "output_type": "stream",
     "text": [
      "0 Trials Completed\n",
      "10 Trials Completed\n",
      "20 Trials Completed\n",
      "30 Trials Completed\n",
      "40 Trials Completed\n"
     ]
    }
   ],
   "source": [
    "\n",
    "correct = []\n",
    "for i in range(0,50):\n",
    "    \n",
    "    predictions = []\n",
    "    \n",
    "    train, test = train_test_split(sliced)\n",
    "    train = train.reset_index(drop = True)\n",
    "    test = test.reset_index(drop = True) \n",
    "    \n",
    "    #sorting to predict stars in titles first\n",
    "    test = test.sort_values('Star In Title', ascending = False).reset_index(drop = True)\n",
    "    sub = test\n",
    "    predictions += sub[sub['Star In Title'] == 1]['Star Num'].tolist()\n",
    "    sub = sub[sub['Star In Title'] == 0].reset_index(drop = True)\n",
    "    X = MultinomialNB()\n",
    "    X.fit(mapperNB.fit_transform(train), train['Rating'])\n",
    "    predictions += X.predict(mapperNB.transform(sub)).tolist()\n",
    "    test['predictions'] = predictions\n",
    "\n",
    "    correct += [len(test[test['predictions'] == test['Rating']])/len(test)]\n",
    "    if i % 10 == 0:\n",
    "        print(str(i) + ' Trials Completed')\n",
    "        "
   ]
  },
  {
   "cell_type": "code",
   "execution_count": 43,
   "metadata": {},
   "outputs": [
    {
     "name": "stdout",
     "output_type": "stream",
     "text": [
      "0.889024390244\n"
     ]
    }
   ],
   "source": [
    "getAccuracy()"
   ]
  },
  {
   "cell_type": "markdown",
   "metadata": {},
   "source": [
    "# SVM\n",
    "### Model #2"
   ]
  },
  {
   "cell_type": "markdown",
   "metadata": {},
   "source": [
    "### Mapper for SVM"
   ]
  },
  {
   "cell_type": "code",
   "execution_count": 49,
   "metadata": {
    "collapsed": true
   },
   "outputs": [],
   "source": [
    "mapperSVM = DataFrameMapper([\n",
    "    (['Author Name Length','Positive Sentiment Score of Title', 'Negative Sentiment Score of Text', 'Review Length (char)'], None),\n",
    "    ('Text', TfidfVectorizer(analyzer=\"word\", \n",
    "                             max_features=1500, \n",
    "                             tokenizer=None,    \n",
    "                             preprocessor=None, \n",
    "                             stop_words='english', \n",
    "                             ngram_range=(2,2)\n",
    "                         )),\n",
    "    ('Title', TfidfVectorizer(analyzer=\"word\", \n",
    "                             max_features=1500, \n",
    "                             tokenizer=None,    \n",
    "                             preprocessor=None, \n",
    "                             stop_words=None,\n",
    "                              ngram_range=(1,2)\n",
    "                             \n",
    "                         )),\n",
    "])\n"
   ]
  },
  {
   "cell_type": "code",
   "execution_count": 63,
   "metadata": {},
   "outputs": [
    {
     "name": "stdout",
     "output_type": "stream",
     "text": [
      "0 Trials Completed\n",
      "10 Trials Completed\n",
      "20 Trials Completed\n",
      "30 Trials Completed\n",
      "40 Trials Completed\n"
     ]
    }
   ],
   "source": [
    "correct = []\n",
    "\n",
    "for i in range(0,50):\n",
    "    \n",
    "    predictions = []\n",
    "    \n",
    "    train, test = train_test_split(sliced)\n",
    "    train = train.reset_index(drop = True)\n",
    "    test = test.reset_index(drop = True) \n",
    "    sm = RandomOverSampler(ratio = {1:400, 2:400, 3:400, 4:400})\n",
    "    x_res, y_res = sm.fit_sample(mapperSVM.fit_transform(train), train['Rating'].values)\n",
    "    #sorting to predict stars in titles first\n",
    "    test = test.sort_values('Star In Title', ascending = False).reset_index(drop = True)\n",
    "    sub = test\n",
    "    predictions += sub[sub['Star In Title'] == 1]['Star Num'].tolist()\n",
    "    sub = sub[sub['Star In Title'] == False].reset_index(drop = True)\n",
    "    \n",
    "    #run classifier on rest of not already classified data\n",
    "    X = svm.LinearSVC()\n",
    "    X.fit(x_res, y_res)\n",
    "    predictions += X.predict(mapperSVM.transform(sub)).tolist()\n",
    "    test['predictions'] = predictions\n",
    "\n",
    "    correct += [len(test[test['predictions'] == test['Rating']])/len(test)]\n",
    "    if i % 10 == 0:\n",
    "        print(str(i) + ' Trials Completed')"
   ]
  },
  {
   "cell_type": "code",
   "execution_count": 64,
   "metadata": {},
   "outputs": [
    {
     "name": "stdout",
     "output_type": "stream",
     "text": [
      "0.857317073171\n"
     ]
    }
   ],
   "source": [
    "getAccuracy()"
   ]
  },
  {
   "cell_type": "code",
   "execution_count": 57,
   "metadata": {},
   "outputs": [
    {
     "name": "stdout",
     "output_type": "stream",
     "text": [
      "1857\n",
      "1.44964496025\n",
      "2737\n",
      "1.35007333802\n",
      "363\n",
      "1.31535100021\n",
      "1718\n",
      "1.25448209578\n",
      "1741\n",
      "1.38732979456\n"
     ]
    }
   ],
   "source": [
    "for x in X.coef_:\n",
    "    absMax = abs(x)\n",
    "    print(np.argmax(absMax))\n",
    "    print(max(absMax))\n",
    "    \n",
    "model = mapperSVM.fit_transform(train)\n",
    "\n",
    "tf = TfidfVectorizer(analyzer=\"word\", \n",
    "                             max_features=1500, \n",
    "                             tokenizer=None,    \n",
    "                             preprocessor=None, \n",
    "                             stop_words=None,\n",
    "                             vocabulary=None)\n",
    "\n",
    "gg = tf.fit(train['Text'])\n",
    "feature_names = gg.get_feature_names()\n",
    "\n"
   ]
  },
  {
   "cell_type": "markdown",
   "metadata": {},
   "source": [
    "##### Looking at common words and their weights for each rating class"
   ]
  },
  {
   "cell_type": "code",
   "execution_count": 58,
   "metadata": {},
   "outputs": [
    {
     "name": "stdout",
     "output_type": "stream",
     "text": [
      "class 1\n",
      "[('worthless', 0.90378896833868116), ('illuminates', 0.76133321121081199), ('babies', 0.67754893081146061), ('whatever', 0.67558901611835576), ('operates', 0.66282980330444208), ('dollar', 0.58906453753087729), ('tough', 0.51735910482409664), ('diameter', 0.38861004797709442), ('harbor', 0.35788234807147062), ('different', 0.33024621432363721)]\n",
      "class 2\n",
      "[('tend', 0.9330779347432081), ('focusable', 0.52828632075193804), ('spreads', 0.47092825183621007), ('own', 0.4602451849283628), ('package', 0.45721368439473875), ('flashlights', 0.43638584690361493), ('came', 0.43638017219337838), ('concentrated', 0.42214105183863576), ('described', 0.40154911414823891), ('double', 0.385927689969914)]\n",
      "class 3\n",
      "[('doa', -1.3153510002060218), ('covers', -1.216497563832287), ('suv', 1.1739686079649574), ('words', 0.82730803156928789), ('thank', 0.65146117872860509), ('survival', 0.52980040497291303), ('lot', 0.49715556500315888), ('swear', 0.47899116333389102), ('wonder', 0.47207954690318021), ('bucks', 0.4715353692373252)]\n",
      "class 4\n",
      "[('doa', 1.2510979489780727), ('covers', 1.2169218513659648), ('easier', 0.83030254201347942), ('aas', 0.79273669724552054), ('woods', 0.71910860580291258), ('chance', 0.7191032718355137), ('heat', 0.6771778544479371), ('name', 0.64462970058001756), ('handy', 0.50932801118614845), ('told', 0.50713786934621974)]\n",
      "class 5\n",
      "[('chance', -0.55289844160101176), ('snug', 0.54876476110796402), ('easier', -0.54045349058350856), ('surprise', 0.53880304322498396), ('words', -0.51299804811260996), ('suv', -0.50403616042932897), ('dollar', -0.48255648910678889), ('building', 0.47172283759208644), ('worthless', -0.46454561931644739), ('guessing', 0.43325024264266321)]\n"
     ]
    }
   ],
   "source": [
    "for i in range(0,5):\n",
    "    print('class ' + str(i + 1))\n",
    "    print(sorted(zip(feature_names, X.coef_[i, :]), key=lambda x: np.abs(x[1]), reverse=True)[:10])"
   ]
  },
  {
   "cell_type": "code",
   "execution_count": null,
   "metadata": {
    "collapsed": true
   },
   "outputs": [],
   "source": []
  }
 ],
 "metadata": {
  "kernelspec": {
   "display_name": "Python 3",
   "language": "python",
   "name": "python3"
  },
  "language_info": {
   "codemirror_mode": {
    "name": "ipython",
    "version": 3
   },
   "file_extension": ".py",
   "mimetype": "text/x-python",
   "name": "python",
   "nbconvert_exporter": "python",
   "pygments_lexer": "ipython3",
   "version": "3.6.3"
  }
 },
 "nbformat": 4,
 "nbformat_minor": 2
}
