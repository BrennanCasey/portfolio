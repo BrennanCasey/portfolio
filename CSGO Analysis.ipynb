{
 "cells": [
  {
   "cell_type": "markdown",
   "metadata": {},
   "source": [
    "### Project Objective: \n",
    "##### Catching cheaters in Counter Strike: Global Offensive (CSGO)\n",
    "The idea is that using players performance metrics in regards to weapon accuracy, we can predict which cheaters are using AimBots. An AimBot is a cheat software injected into the game that allows the player to benefit from perfect accuracy. Becuase cheaters fall in the top percentile in weapon accuracy, statistical classification should work fairly well to identify anamolies in the group."
   ]
  },
  {
   "cell_type": "markdown",
   "metadata": {},
   "source": [
    "### Imports"
   ]
  },
  {
   "cell_type": "code",
   "execution_count": 161,
   "metadata": {
    "collapsed": true
   },
   "outputs": [],
   "source": [
    "import pandas as pd\n",
    "import numpy as np \n",
    "import matplotlib.pyplot as plt\n",
    "\n",
    "from sklearn.naive_bayes import MultinomialNB\n",
    "from sklearn.pipeline import Pipeline\n",
    "from sklearn.model_selection import GridSearchCV\n",
    "from sklearn.linear_model import SGDClassifier\n",
    "\n",
    "from sklearn.linear_model import LinearRegression\n",
    "from sklearn.model_selection import train_test_split\n",
    "\n",
    "from sklearn.pipeline import Pipeline\n",
    "from sklearn.model_selection import GridSearchCV\n",
    "from sklearn.linear_model import SGDClassifier\n",
    "from sklearn import svm\n",
    "from sklearn.neighbors import KNeighborsClassifier"
   ]
  },
  {
   "cell_type": "markdown",
   "metadata": {},
   "source": [
    "### Reading the data"
   ]
  },
  {
   "cell_type": "code",
   "execution_count": 199,
   "metadata": {
    "collapsed": true
   },
   "outputs": [],
   "source": [
    "df = pd.read_csv(\"./CSGODataset Temp.csv\")"
   ]
  },
  {
   "cell_type": "code",
   "execution_count": 200,
   "metadata": {
    "scrolled": true
   },
   "outputs": [
    {
     "name": "stdout",
     "output_type": "stream",
     "text": [
      "<class 'pandas.core.frame.DataFrame'>\n",
      "RangeIndex: 26533 entries, 0 to 26532\n",
      "Columns: 288 entries, GI.lesson.Csgo_cycle_items_gp to total_wins_pistolround\n",
      "dtypes: float64(286), int64(1), object(1)\n",
      "memory usage: 58.3+ MB\n"
     ]
    }
   ],
   "source": [
    "df.info()"
   ]
  },
  {
   "cell_type": "code",
   "execution_count": null,
   "metadata": {
    "collapsed": true
   },
   "outputs": [],
   "source": [
    "### Most of these features are not relative to the objective in this project."
   ]
  },
  {
   "cell_type": "code",
   "execution_count": 203,
   "metadata": {
    "scrolled": true
   },
   "outputs": [
    {
     "data": {
      "text/plain": [
       "GI.lesson.Csgo_cycle_items_gp                       26283\n",
       "GI.lesson.Csgo_cycle_weapons_gp                     26129\n",
       "GI.lesson.Csgo_cycle_weapons_kb                      1055\n",
       "GI.lesson.Csgo_instr_explain_defuse_kit_carrier     26500\n",
       "GI.lesson.bomb_sites_A                               5057\n",
       "GI.lesson.bomb_sites_B                               5025\n",
       "GI.lesson.csgo_hostage_follow_stop                  26499\n",
       "GI.lesson.csgo_hostage_lead_to_hrz                  10049\n",
       "GI.lesson.csgo_instr_explain_bomb_carrier            1431\n",
       "GI.lesson.csgo_instr_explain_buyarmor                4206\n",
       "GI.lesson.csgo_instr_explain_buymenu                 1298\n",
       "GI.lesson.csgo_instr_explain_defend_bomb            26500\n",
       "GI.lesson.csgo_instr_explain_follow_bomber           2535\n",
       "GI.lesson.csgo_instr_explain_inspect                 4356\n",
       "GI.lesson.csgo_instr_explain_pickup_bomb             3388\n",
       "GI.lesson.csgo_instr_explain_plant_bomb              3093\n",
       "GI.lesson.csgo_instr_explain_prevent_bomb_pickup     3399\n",
       "GI.lesson.csgo_instr_explain_reload                  1084\n",
       "GI.lesson.csgo_instr_explain_silencer               26192\n",
       "GI.lesson.csgo_instr_explain_zoom                    1289\n",
       "GI.lesson.csgo_instr_notify_amar_knife              26500\n",
       "GI.lesson.csgo_instr_notify_amd_knife               26500\n",
       "GI.lesson.csgo_instr_notify_earned_nade             26500\n",
       "GI.lesson.csgo_instr_notify_level                   26500\n",
       "GI.lesson.csgo_instr_notify_level_dem               26500\n",
       "GI.lesson.csgo_instr_rescue_zone                     7678\n",
       "GI.lesson.csgo_prevent_hostage_rescue               26489\n",
       "GI.lesson.csgo_switch_to_items_gp                   25958\n",
       "GI.lesson.csgo_use_hostage_follow                   26493\n",
       "GI.lesson.defuse_planted_bomb                        7959\n",
       "                                                    ...  \n",
       "total_wins_map_ar_shoots                             9802\n",
       "total_wins_map_cs_assault                           13176\n",
       "total_wins_map_cs_italy                             11945\n",
       "total_wins_map_cs_militia                           16945\n",
       "total_wins_map_cs_office                             8433\n",
       "total_wins_map_de_alleyway                          26499\n",
       "total_wins_map_de_aztec                             15397\n",
       "total_wins_map_de_balkan                            26499\n",
       "total_wins_map_de_bank                              12868\n",
       "total_wins_map_de_cbble                              7533\n",
       "total_wins_map_de_depot                             26496\n",
       "total_wins_map_de_dust                              14068\n",
       "total_wins_map_de_dust2                              2210\n",
       "total_wins_map_de_embassy                           26499\n",
       "total_wins_map_de_house                             15529\n",
       "total_wins_map_de_inferno                            4597\n",
       "total_wins_map_de_lake                               7679\n",
       "total_wins_map_de_mill                              26498\n",
       "total_wins_map_de_nuke                               6244\n",
       "total_wins_map_de_piranesi                          26358\n",
       "total_wins_map_de_prodigy                           26469\n",
       "total_wins_map_de_safehouse                          8639\n",
       "total_wins_map_de_shacks                            26499\n",
       "total_wins_map_de_shorttrain                        18660\n",
       "total_wins_map_de_stmarc                            11400\n",
       "total_wins_map_de_sugarcane                         16926\n",
       "total_wins_map_de_tides                             26493\n",
       "total_wins_map_de_train                              6845\n",
       "total_wins_map_de_vertigo                           10734\n",
       "total_wins_pistolround                               4002\n",
       "Length: 288, dtype: int64"
      ]
     },
     "execution_count": 203,
     "metadata": {},
     "output_type": "execute_result"
    }
   ],
   "source": [
    "df.isnull().sum()"
   ]
  },
  {
   "cell_type": "code",
   "execution_count": 204,
   "metadata": {
    "collapsed": true
   },
   "outputs": [],
   "source": [
    "#fill na values with 0. Some players did not use all the weapons yet. \n",
    "df = df.fillna(0)\n",
    "\n",
    "#group by class and calculate the percent accuracy of each weapon group\n",
    "df[\"total_AR_shots\"] = df['total_shots_sg556']+df['total_shots_sg552']+df['total_shots_sg550']+df['total_shots_ak47']+df['total_shots_aug']+df['total_shots_famas']+df['total_shots_g3sg1']+df['total_shots_galil']+df['total_shots_galilar']+df['total_shots_m4a1']\n",
    "df[\"total_SMG_shots\"] = df['total_shots_bizon']+df['total_shots_p90']+df['total_shots_mac10']+df['total_shots_mp5navy']+df[ 'total_shots_mp7']+df['total_shots_mp9']+df['total_shots_ump45']\n",
    "df[\"total_pistol_shots\"] = df['total_shots_usp']+df['total_shots_tec9']+df['total_shots_fiveseven']+df['total_shots_deagle']+df['total_shots_glock']+df['total_shots_hkp2000']+df['total_shots_p228']+df['total_shots_p250'] \n",
    "df[\"total_LMG_shots\"] = df['total_shots_m249'] + df['total_shots_negev']\n",
    "df[\"total_sniper_shots\"] = df['total_shots_scar17']+df['total_shots_ssg08']+df['total_shots_scout']+df['total_shots_awp'] \n",
    "\n",
    "df[\"total_AR_hits\"] = df['total_hits_sg556']+df['total_hits_sg552']+df['total_hits_sg550']+df['total_hits_ak47']+df['total_hits_aug']+df['total_hits_famas']+df['total_hits_g3sg1']+df['total_hits_galil']+df['total_hits_galilar']+df['total_hits_m4a1']\n",
    "df[\"total_SMG_hits\"] = df['total_hits_bizon']+df['total_hits_p90']+df['total_hits_mac10']+df['total_hits_mp5navy']+df[ 'total_hits_mp7']+df['total_hits_mp9']+df['total_hits_ump45']\n",
    "df[\"total_pistol_hits\"] = df['total_hits_usp']+df['total_hits_tec9']+df['total_hits_fiveseven']+df['total_hits_deagle']+df['total_hits_glock']+df['total_hits_hkp2000']+df['total_hits_p228']+df['total_hits_p250'] \n",
    "df[\"total_LMG_hits\"] = df['total_hits_m249'] + df['total_hits_negev']\n",
    "df[\"total_sniper_hits\"] = df['total_hits_scar17']+df['total_hits_ssg08']+df['total_hits_scout']+df['total_hits_awp'] \n",
    "\n",
    "df[\"AR_acc\"] = df[\"total_AR_hits\"]/df[\"total_AR_shots\"]\n",
    "df[\"SMG_acc\"] = df[\"total_SMG_hits\"]/df[\"total_SMG_shots\"]\n",
    "df[\"pistol_acc\"] = df[\"total_pistol_hits\"]/df[\"total_pistol_shots\"]\n",
    "df[\"LMG_acc\"] = df[\"total_LMG_hits\"]/df[\"total_LMG_shots\"]\n",
    "df[\"sniper_acc\"] = df[\"total_sniper_hits\"]/df[\"total_sniper_shots\"]\n",
    "\n",
    "df[\"total_acc\"] = df[\"total_shots_hit\"]/df[\"total_shots_fired\"]\n",
    "df[\"MVP_per_game\"] = df[\"total_mvps\"]/df[\"total_matches_played\"]\n",
    "\n",
    "final_cols = [\"steamid\",\"AR_acc\", \"SMG_acc\",\"pistol_acc\",\"LMG_acc\",\"sniper_acc\",\"total_acc\", \"total_matches_played\"]\n",
    "\n",
    "final_df = df[final_cols]"
   ]
  },
  {
   "cell_type": "code",
   "execution_count": 256,
   "metadata": {
    "scrolled": true
   },
   "outputs": [
    {
     "data": {
      "text/html": [
       "<div>\n",
       "<style>\n",
       "    .dataframe thead tr:only-child th {\n",
       "        text-align: right;\n",
       "    }\n",
       "\n",
       "    .dataframe thead th {\n",
       "        text-align: left;\n",
       "    }\n",
       "\n",
       "    .dataframe tbody tr th {\n",
       "        vertical-align: top;\n",
       "    }\n",
       "</style>\n",
       "<table border=\"1\" class=\"dataframe\">\n",
       "  <thead>\n",
       "    <tr style=\"text-align: right;\">\n",
       "      <th></th>\n",
       "      <th>steamid</th>\n",
       "      <th>AR_acc</th>\n",
       "      <th>SMG_acc</th>\n",
       "      <th>pistol_acc</th>\n",
       "      <th>LMG_acc</th>\n",
       "      <th>sniper_acc</th>\n",
       "      <th>total_acc</th>\n",
       "      <th>total_matches_played</th>\n",
       "    </tr>\n",
       "  </thead>\n",
       "  <tbody>\n",
       "    <tr>\n",
       "      <th>0</th>\n",
       "      <td>76561198145584553</td>\n",
       "      <td>NaN</td>\n",
       "      <td>0.351852</td>\n",
       "      <td>NaN</td>\n",
       "      <td>NaN</td>\n",
       "      <td>NaN</td>\n",
       "      <td>0.351852</td>\n",
       "      <td>0.0</td>\n",
       "    </tr>\n",
       "    <tr>\n",
       "      <th>1</th>\n",
       "      <td>76561198142230244</td>\n",
       "      <td>0.143358</td>\n",
       "      <td>0.159086</td>\n",
       "      <td>0.164393</td>\n",
       "      <td>0.047976</td>\n",
       "      <td>0.299291</td>\n",
       "      <td>0.154816</td>\n",
       "      <td>3431.0</td>\n",
       "    </tr>\n",
       "    <tr>\n",
       "      <th>2</th>\n",
       "      <td>76561198143678230</td>\n",
       "      <td>0.176131</td>\n",
       "      <td>0.178420</td>\n",
       "      <td>0.209838</td>\n",
       "      <td>0.025253</td>\n",
       "      <td>0.352375</td>\n",
       "      <td>0.177514</td>\n",
       "      <td>1038.0</td>\n",
       "    </tr>\n",
       "    <tr>\n",
       "      <th>3</th>\n",
       "      <td>76561198146070673</td>\n",
       "      <td>0.184468</td>\n",
       "      <td>0.182125</td>\n",
       "      <td>0.196813</td>\n",
       "      <td>0.074958</td>\n",
       "      <td>0.333579</td>\n",
       "      <td>0.192323</td>\n",
       "      <td>3336.0</td>\n",
       "    </tr>\n",
       "    <tr>\n",
       "      <th>4</th>\n",
       "      <td>76561198144242009</td>\n",
       "      <td>0.188171</td>\n",
       "      <td>0.173035</td>\n",
       "      <td>0.183734</td>\n",
       "      <td>0.071559</td>\n",
       "      <td>0.367503</td>\n",
       "      <td>0.186940</td>\n",
       "      <td>1635.0</td>\n",
       "    </tr>\n",
       "    <tr>\n",
       "      <th>5</th>\n",
       "      <td>76561198146576370</td>\n",
       "      <td>0.216314</td>\n",
       "      <td>0.244173</td>\n",
       "      <td>0.253458</td>\n",
       "      <td>0.070881</td>\n",
       "      <td>0.351080</td>\n",
       "      <td>0.216497</td>\n",
       "      <td>869.0</td>\n",
       "    </tr>\n",
       "    <tr>\n",
       "      <th>6</th>\n",
       "      <td>76561198145127689</td>\n",
       "      <td>0.157005</td>\n",
       "      <td>0.118952</td>\n",
       "      <td>0.143598</td>\n",
       "      <td>0.039301</td>\n",
       "      <td>0.267341</td>\n",
       "      <td>0.143320</td>\n",
       "      <td>1065.0</td>\n",
       "    </tr>\n",
       "    <tr>\n",
       "      <th>7</th>\n",
       "      <td>76561198149372302</td>\n",
       "      <td>NaN</td>\n",
       "      <td>NaN</td>\n",
       "      <td>NaN</td>\n",
       "      <td>NaN</td>\n",
       "      <td>NaN</td>\n",
       "      <td>NaN</td>\n",
       "      <td>0.0</td>\n",
       "    </tr>\n",
       "    <tr>\n",
       "      <th>8</th>\n",
       "      <td>76561198146272721</td>\n",
       "      <td>NaN</td>\n",
       "      <td>NaN</td>\n",
       "      <td>NaN</td>\n",
       "      <td>NaN</td>\n",
       "      <td>NaN</td>\n",
       "      <td>NaN</td>\n",
       "      <td>0.0</td>\n",
       "    </tr>\n",
       "    <tr>\n",
       "      <th>9</th>\n",
       "      <td>76561198145865948</td>\n",
       "      <td>0.145822</td>\n",
       "      <td>0.186421</td>\n",
       "      <td>0.199817</td>\n",
       "      <td>0.093023</td>\n",
       "      <td>0.443662</td>\n",
       "      <td>0.163455</td>\n",
       "      <td>24.0</td>\n",
       "    </tr>\n",
       "    <tr>\n",
       "      <th>10</th>\n",
       "      <td>76561198149384460</td>\n",
       "      <td>0.186455</td>\n",
       "      <td>0.174871</td>\n",
       "      <td>0.211177</td>\n",
       "      <td>0.057499</td>\n",
       "      <td>0.396146</td>\n",
       "      <td>0.198989</td>\n",
       "      <td>385.0</td>\n",
       "    </tr>\n",
       "    <tr>\n",
       "      <th>11</th>\n",
       "      <td>76561198145840475</td>\n",
       "      <td>0.209942</td>\n",
       "      <td>0.186523</td>\n",
       "      <td>0.217155</td>\n",
       "      <td>0.182831</td>\n",
       "      <td>0.390245</td>\n",
       "      <td>0.203385</td>\n",
       "      <td>3098.0</td>\n",
       "    </tr>\n",
       "    <tr>\n",
       "      <th>12</th>\n",
       "      <td>76561198142504535</td>\n",
       "      <td>0.154296</td>\n",
       "      <td>0.145072</td>\n",
       "      <td>0.170792</td>\n",
       "      <td>0.043871</td>\n",
       "      <td>0.317962</td>\n",
       "      <td>0.171720</td>\n",
       "      <td>1475.0</td>\n",
       "    </tr>\n",
       "    <tr>\n",
       "      <th>13</th>\n",
       "      <td>76561198146809346</td>\n",
       "      <td>0.169154</td>\n",
       "      <td>0.175151</td>\n",
       "      <td>0.191282</td>\n",
       "      <td>0.019602</td>\n",
       "      <td>0.354395</td>\n",
       "      <td>0.161759</td>\n",
       "      <td>305.0</td>\n",
       "    </tr>\n",
       "    <tr>\n",
       "      <th>14</th>\n",
       "      <td>76561198146965516</td>\n",
       "      <td>0.182767</td>\n",
       "      <td>0.179815</td>\n",
       "      <td>0.215903</td>\n",
       "      <td>0.045394</td>\n",
       "      <td>0.297421</td>\n",
       "      <td>0.177252</td>\n",
       "      <td>725.0</td>\n",
       "    </tr>\n",
       "    <tr>\n",
       "      <th>15</th>\n",
       "      <td>76561198146675752</td>\n",
       "      <td>0.147890</td>\n",
       "      <td>0.089559</td>\n",
       "      <td>0.162275</td>\n",
       "      <td>0.039361</td>\n",
       "      <td>0.324613</td>\n",
       "      <td>0.127420</td>\n",
       "      <td>368.0</td>\n",
       "    </tr>\n",
       "    <tr>\n",
       "      <th>16</th>\n",
       "      <td>76561198149513218</td>\n",
       "      <td>0.207886</td>\n",
       "      <td>0.191113</td>\n",
       "      <td>0.233959</td>\n",
       "      <td>0.045455</td>\n",
       "      <td>0.319746</td>\n",
       "      <td>0.202320</td>\n",
       "      <td>1433.0</td>\n",
       "    </tr>\n",
       "    <tr>\n",
       "      <th>17</th>\n",
       "      <td>76561198144437912</td>\n",
       "      <td>0.238887</td>\n",
       "      <td>0.216830</td>\n",
       "      <td>0.223382</td>\n",
       "      <td>0.112621</td>\n",
       "      <td>0.454514</td>\n",
       "      <td>0.230306</td>\n",
       "      <td>1804.0</td>\n",
       "    </tr>\n",
       "    <tr>\n",
       "      <th>18</th>\n",
       "      <td>76561198149742689</td>\n",
       "      <td>0.216915</td>\n",
       "      <td>0.213497</td>\n",
       "      <td>0.212899</td>\n",
       "      <td>0.043732</td>\n",
       "      <td>0.287051</td>\n",
       "      <td>0.212877</td>\n",
       "      <td>403.0</td>\n",
       "    </tr>\n",
       "    <tr>\n",
       "      <th>19</th>\n",
       "      <td>76561198143674751</td>\n",
       "      <td>0.188690</td>\n",
       "      <td>0.240988</td>\n",
       "      <td>0.227025</td>\n",
       "      <td>0.216406</td>\n",
       "      <td>0.400540</td>\n",
       "      <td>0.210866</td>\n",
       "      <td>661.0</td>\n",
       "    </tr>\n",
       "    <tr>\n",
       "      <th>20</th>\n",
       "      <td>76561198142303993</td>\n",
       "      <td>0.091398</td>\n",
       "      <td>0.094551</td>\n",
       "      <td>0.205128</td>\n",
       "      <td>0.011561</td>\n",
       "      <td>0.333333</td>\n",
       "      <td>0.125416</td>\n",
       "      <td>9.0</td>\n",
       "    </tr>\n",
       "    <tr>\n",
       "      <th>21</th>\n",
       "      <td>76561198148307694</td>\n",
       "      <td>0.217602</td>\n",
       "      <td>0.196394</td>\n",
       "      <td>0.225680</td>\n",
       "      <td>0.127246</td>\n",
       "      <td>0.389779</td>\n",
       "      <td>0.214461</td>\n",
       "      <td>666.0</td>\n",
       "    </tr>\n",
       "    <tr>\n",
       "      <th>22</th>\n",
       "      <td>76561198147884310</td>\n",
       "      <td>NaN</td>\n",
       "      <td>NaN</td>\n",
       "      <td>0.428571</td>\n",
       "      <td>NaN</td>\n",
       "      <td>NaN</td>\n",
       "      <td>0.428571</td>\n",
       "      <td>0.0</td>\n",
       "    </tr>\n",
       "    <tr>\n",
       "      <th>23</th>\n",
       "      <td>76561198147052977</td>\n",
       "      <td>0.164838</td>\n",
       "      <td>0.162631</td>\n",
       "      <td>0.201617</td>\n",
       "      <td>0.072874</td>\n",
       "      <td>0.298254</td>\n",
       "      <td>0.170670</td>\n",
       "      <td>492.0</td>\n",
       "    </tr>\n",
       "    <tr>\n",
       "      <th>24</th>\n",
       "      <td>76561198149754711</td>\n",
       "      <td>0.177734</td>\n",
       "      <td>0.178396</td>\n",
       "      <td>0.212081</td>\n",
       "      <td>0.053060</td>\n",
       "      <td>0.329225</td>\n",
       "      <td>0.189294</td>\n",
       "      <td>1901.0</td>\n",
       "    </tr>\n",
       "    <tr>\n",
       "      <th>25</th>\n",
       "      <td>76561198148771207</td>\n",
       "      <td>0.161318</td>\n",
       "      <td>0.166859</td>\n",
       "      <td>0.212404</td>\n",
       "      <td>0.094449</td>\n",
       "      <td>0.349244</td>\n",
       "      <td>0.175765</td>\n",
       "      <td>768.0</td>\n",
       "    </tr>\n",
       "    <tr>\n",
       "      <th>26</th>\n",
       "      <td>76561198145893155</td>\n",
       "      <td>0.143240</td>\n",
       "      <td>0.142066</td>\n",
       "      <td>0.162562</td>\n",
       "      <td>0.059594</td>\n",
       "      <td>0.259347</td>\n",
       "      <td>0.152153</td>\n",
       "      <td>3214.0</td>\n",
       "    </tr>\n",
       "    <tr>\n",
       "      <th>27</th>\n",
       "      <td>76561198149512335</td>\n",
       "      <td>0.127451</td>\n",
       "      <td>0.111111</td>\n",
       "      <td>0.150000</td>\n",
       "      <td>0.000000</td>\n",
       "      <td>NaN</td>\n",
       "      <td>0.102740</td>\n",
       "      <td>2.0</td>\n",
       "    </tr>\n",
       "    <tr>\n",
       "      <th>28</th>\n",
       "      <td>76561198149101132</td>\n",
       "      <td>0.158467</td>\n",
       "      <td>0.145623</td>\n",
       "      <td>0.165584</td>\n",
       "      <td>0.064937</td>\n",
       "      <td>0.303664</td>\n",
       "      <td>0.155155</td>\n",
       "      <td>790.0</td>\n",
       "    </tr>\n",
       "    <tr>\n",
       "      <th>29</th>\n",
       "      <td>76561198142601331</td>\n",
       "      <td>0.169072</td>\n",
       "      <td>0.160282</td>\n",
       "      <td>0.160732</td>\n",
       "      <td>0.026772</td>\n",
       "      <td>0.284700</td>\n",
       "      <td>0.167773</td>\n",
       "      <td>859.0</td>\n",
       "    </tr>\n",
       "    <tr>\n",
       "      <th>...</th>\n",
       "      <td>...</td>\n",
       "      <td>...</td>\n",
       "      <td>...</td>\n",
       "      <td>...</td>\n",
       "      <td>...</td>\n",
       "      <td>...</td>\n",
       "      <td>...</td>\n",
       "      <td>...</td>\n",
       "    </tr>\n",
       "    <tr>\n",
       "      <th>26503</th>\n",
       "      <td>76561198142651440</td>\n",
       "      <td>0.189299</td>\n",
       "      <td>0.182366</td>\n",
       "      <td>0.206468</td>\n",
       "      <td>0.050915</td>\n",
       "      <td>0.371110</td>\n",
       "      <td>0.187471</td>\n",
       "      <td>907.0</td>\n",
       "    </tr>\n",
       "    <tr>\n",
       "      <th>26504</th>\n",
       "      <td>76561198146716460</td>\n",
       "      <td>0.180210</td>\n",
       "      <td>0.167104</td>\n",
       "      <td>0.209586</td>\n",
       "      <td>0.092035</td>\n",
       "      <td>0.328676</td>\n",
       "      <td>0.190376</td>\n",
       "      <td>1083.0</td>\n",
       "    </tr>\n",
       "    <tr>\n",
       "      <th>26505</th>\n",
       "      <td>76561198145959568</td>\n",
       "      <td>0.163460</td>\n",
       "      <td>0.158574</td>\n",
       "      <td>0.174872</td>\n",
       "      <td>0.040379</td>\n",
       "      <td>0.356267</td>\n",
       "      <td>0.160381</td>\n",
       "      <td>256.0</td>\n",
       "    </tr>\n",
       "    <tr>\n",
       "      <th>26506</th>\n",
       "      <td>76561198146372861</td>\n",
       "      <td>0.071429</td>\n",
       "      <td>0.141711</td>\n",
       "      <td>0.178571</td>\n",
       "      <td>0.141176</td>\n",
       "      <td>0.222222</td>\n",
       "      <td>0.154286</td>\n",
       "      <td>1.0</td>\n",
       "    </tr>\n",
       "    <tr>\n",
       "      <th>26507</th>\n",
       "      <td>76561198142813676</td>\n",
       "      <td>0.164202</td>\n",
       "      <td>0.180273</td>\n",
       "      <td>0.190696</td>\n",
       "      <td>0.076053</td>\n",
       "      <td>0.320043</td>\n",
       "      <td>0.174745</td>\n",
       "      <td>3596.0</td>\n",
       "    </tr>\n",
       "    <tr>\n",
       "      <th>26508</th>\n",
       "      <td>76561198146048077</td>\n",
       "      <td>0.212174</td>\n",
       "      <td>0.186402</td>\n",
       "      <td>0.207245</td>\n",
       "      <td>0.071699</td>\n",
       "      <td>0.349104</td>\n",
       "      <td>0.207529</td>\n",
       "      <td>446.0</td>\n",
       "    </tr>\n",
       "    <tr>\n",
       "      <th>26509</th>\n",
       "      <td>76561198148271950</td>\n",
       "      <td>0.221834</td>\n",
       "      <td>0.202357</td>\n",
       "      <td>0.251699</td>\n",
       "      <td>0.049651</td>\n",
       "      <td>0.466857</td>\n",
       "      <td>0.223879</td>\n",
       "      <td>609.0</td>\n",
       "    </tr>\n",
       "    <tr>\n",
       "      <th>26510</th>\n",
       "      <td>76561198144123752</td>\n",
       "      <td>0.154676</td>\n",
       "      <td>0.166963</td>\n",
       "      <td>0.160370</td>\n",
       "      <td>0.052168</td>\n",
       "      <td>0.324383</td>\n",
       "      <td>0.163813</td>\n",
       "      <td>3019.0</td>\n",
       "    </tr>\n",
       "    <tr>\n",
       "      <th>26511</th>\n",
       "      <td>76561198148386125</td>\n",
       "      <td>0.202857</td>\n",
       "      <td>0.284483</td>\n",
       "      <td>0.328947</td>\n",
       "      <td>NaN</td>\n",
       "      <td>0.461538</td>\n",
       "      <td>0.232143</td>\n",
       "      <td>0.0</td>\n",
       "    </tr>\n",
       "    <tr>\n",
       "      <th>26512</th>\n",
       "      <td>76561198148970472</td>\n",
       "      <td>0.184894</td>\n",
       "      <td>0.166652</td>\n",
       "      <td>0.186532</td>\n",
       "      <td>0.077442</td>\n",
       "      <td>0.272125</td>\n",
       "      <td>0.181045</td>\n",
       "      <td>2940.0</td>\n",
       "    </tr>\n",
       "    <tr>\n",
       "      <th>26513</th>\n",
       "      <td>76561198142814804</td>\n",
       "      <td>0.166822</td>\n",
       "      <td>0.177439</td>\n",
       "      <td>0.183695</td>\n",
       "      <td>0.045667</td>\n",
       "      <td>0.381515</td>\n",
       "      <td>0.159618</td>\n",
       "      <td>754.0</td>\n",
       "    </tr>\n",
       "    <tr>\n",
       "      <th>26514</th>\n",
       "      <td>76561198144422053</td>\n",
       "      <td>0.193124</td>\n",
       "      <td>0.211617</td>\n",
       "      <td>0.206493</td>\n",
       "      <td>0.397274</td>\n",
       "      <td>0.317095</td>\n",
       "      <td>0.203805</td>\n",
       "      <td>1034.0</td>\n",
       "    </tr>\n",
       "    <tr>\n",
       "      <th>26515</th>\n",
       "      <td>76561198141209866</td>\n",
       "      <td>0.135443</td>\n",
       "      <td>0.128316</td>\n",
       "      <td>0.125353</td>\n",
       "      <td>0.000000</td>\n",
       "      <td>0.394068</td>\n",
       "      <td>0.145516</td>\n",
       "      <td>26.0</td>\n",
       "    </tr>\n",
       "    <tr>\n",
       "      <th>26516</th>\n",
       "      <td>76561198144074897</td>\n",
       "      <td>0.147614</td>\n",
       "      <td>0.131673</td>\n",
       "      <td>0.161042</td>\n",
       "      <td>0.019825</td>\n",
       "      <td>0.283448</td>\n",
       "      <td>0.153505</td>\n",
       "      <td>479.0</td>\n",
       "    </tr>\n",
       "    <tr>\n",
       "      <th>26517</th>\n",
       "      <td>76561198141819656</td>\n",
       "      <td>0.168643</td>\n",
       "      <td>0.152369</td>\n",
       "      <td>0.196795</td>\n",
       "      <td>0.051992</td>\n",
       "      <td>0.305484</td>\n",
       "      <td>0.165247</td>\n",
       "      <td>895.0</td>\n",
       "    </tr>\n",
       "    <tr>\n",
       "      <th>26518</th>\n",
       "      <td>76561198141785407</td>\n",
       "      <td>0.286624</td>\n",
       "      <td>0.124567</td>\n",
       "      <td>0.437500</td>\n",
       "      <td>NaN</td>\n",
       "      <td>NaN</td>\n",
       "      <td>0.180113</td>\n",
       "      <td>3.0</td>\n",
       "    </tr>\n",
       "    <tr>\n",
       "      <th>26519</th>\n",
       "      <td>76561198141267882</td>\n",
       "      <td>0.170612</td>\n",
       "      <td>0.181076</td>\n",
       "      <td>0.175291</td>\n",
       "      <td>0.125957</td>\n",
       "      <td>0.333456</td>\n",
       "      <td>0.172055</td>\n",
       "      <td>4982.0</td>\n",
       "    </tr>\n",
       "    <tr>\n",
       "      <th>26520</th>\n",
       "      <td>76561198142659294</td>\n",
       "      <td>0.179475</td>\n",
       "      <td>0.173244</td>\n",
       "      <td>0.187637</td>\n",
       "      <td>0.058386</td>\n",
       "      <td>0.256534</td>\n",
       "      <td>0.179158</td>\n",
       "      <td>3493.0</td>\n",
       "    </tr>\n",
       "    <tr>\n",
       "      <th>26521</th>\n",
       "      <td>76561198144098591</td>\n",
       "      <td>0.152276</td>\n",
       "      <td>0.156338</td>\n",
       "      <td>0.274838</td>\n",
       "      <td>0.082569</td>\n",
       "      <td>0.250000</td>\n",
       "      <td>0.191285</td>\n",
       "      <td>4.0</td>\n",
       "    </tr>\n",
       "    <tr>\n",
       "      <th>26522</th>\n",
       "      <td>76561198145045188</td>\n",
       "      <td>0.226709</td>\n",
       "      <td>0.212799</td>\n",
       "      <td>0.232784</td>\n",
       "      <td>0.058631</td>\n",
       "      <td>0.474330</td>\n",
       "      <td>0.227181</td>\n",
       "      <td>1755.0</td>\n",
       "    </tr>\n",
       "    <tr>\n",
       "      <th>26523</th>\n",
       "      <td>76561198143726420</td>\n",
       "      <td>0.205681</td>\n",
       "      <td>0.184822</td>\n",
       "      <td>0.221444</td>\n",
       "      <td>0.071429</td>\n",
       "      <td>0.459016</td>\n",
       "      <td>0.197951</td>\n",
       "      <td>55.0</td>\n",
       "    </tr>\n",
       "    <tr>\n",
       "      <th>26524</th>\n",
       "      <td>76561198148513833</td>\n",
       "      <td>0.202514</td>\n",
       "      <td>0.190815</td>\n",
       "      <td>0.215644</td>\n",
       "      <td>0.125453</td>\n",
       "      <td>0.360350</td>\n",
       "      <td>0.209510</td>\n",
       "      <td>1291.0</td>\n",
       "    </tr>\n",
       "    <tr>\n",
       "      <th>26525</th>\n",
       "      <td>76561198141093138</td>\n",
       "      <td>0.138116</td>\n",
       "      <td>0.130252</td>\n",
       "      <td>0.106020</td>\n",
       "      <td>0.050633</td>\n",
       "      <td>0.425197</td>\n",
       "      <td>0.134217</td>\n",
       "      <td>17.0</td>\n",
       "    </tr>\n",
       "    <tr>\n",
       "      <th>26526</th>\n",
       "      <td>76561198146411348</td>\n",
       "      <td>0.156566</td>\n",
       "      <td>0.182038</td>\n",
       "      <td>0.186908</td>\n",
       "      <td>0.040415</td>\n",
       "      <td>0.271074</td>\n",
       "      <td>0.166296</td>\n",
       "      <td>1739.0</td>\n",
       "    </tr>\n",
       "    <tr>\n",
       "      <th>26527</th>\n",
       "      <td>76561198141122072</td>\n",
       "      <td>0.083333</td>\n",
       "      <td>0.160000</td>\n",
       "      <td>0.320388</td>\n",
       "      <td>0.094595</td>\n",
       "      <td>NaN</td>\n",
       "      <td>0.173375</td>\n",
       "      <td>1.0</td>\n",
       "    </tr>\n",
       "    <tr>\n",
       "      <th>26528</th>\n",
       "      <td>76561198146434623</td>\n",
       "      <td>0.194739</td>\n",
       "      <td>0.176726</td>\n",
       "      <td>0.190196</td>\n",
       "      <td>0.073074</td>\n",
       "      <td>0.295090</td>\n",
       "      <td>0.187024</td>\n",
       "      <td>1739.0</td>\n",
       "    </tr>\n",
       "    <tr>\n",
       "      <th>26529</th>\n",
       "      <td>76561198148690767</td>\n",
       "      <td>0.224194</td>\n",
       "      <td>0.240399</td>\n",
       "      <td>0.234311</td>\n",
       "      <td>0.094406</td>\n",
       "      <td>0.472409</td>\n",
       "      <td>0.237008</td>\n",
       "      <td>99.0</td>\n",
       "    </tr>\n",
       "    <tr>\n",
       "      <th>26530</th>\n",
       "      <td>76561198145877663</td>\n",
       "      <td>0.172963</td>\n",
       "      <td>0.185060</td>\n",
       "      <td>0.213128</td>\n",
       "      <td>0.035260</td>\n",
       "      <td>0.422917</td>\n",
       "      <td>0.185612</td>\n",
       "      <td>399.0</td>\n",
       "    </tr>\n",
       "    <tr>\n",
       "      <th>26531</th>\n",
       "      <td>76561198141438387</td>\n",
       "      <td>0.273495</td>\n",
       "      <td>0.278664</td>\n",
       "      <td>0.368347</td>\n",
       "      <td>0.142152</td>\n",
       "      <td>0.549091</td>\n",
       "      <td>0.270788</td>\n",
       "      <td>43.0</td>\n",
       "    </tr>\n",
       "    <tr>\n",
       "      <th>26532</th>\n",
       "      <td>76561198149165676</td>\n",
       "      <td>0.229982</td>\n",
       "      <td>0.224806</td>\n",
       "      <td>0.249423</td>\n",
       "      <td>0.121430</td>\n",
       "      <td>0.406264</td>\n",
       "      <td>0.240658</td>\n",
       "      <td>1067.0</td>\n",
       "    </tr>\n",
       "  </tbody>\n",
       "</table>\n",
       "<p>26533 rows × 8 columns</p>\n",
       "</div>"
      ],
      "text/plain": [
       "                 steamid    AR_acc   SMG_acc  pistol_acc   LMG_acc  \\\n",
       "0      76561198145584553       NaN  0.351852         NaN       NaN   \n",
       "1      76561198142230244  0.143358  0.159086    0.164393  0.047976   \n",
       "2      76561198143678230  0.176131  0.178420    0.209838  0.025253   \n",
       "3      76561198146070673  0.184468  0.182125    0.196813  0.074958   \n",
       "4      76561198144242009  0.188171  0.173035    0.183734  0.071559   \n",
       "5      76561198146576370  0.216314  0.244173    0.253458  0.070881   \n",
       "6      76561198145127689  0.157005  0.118952    0.143598  0.039301   \n",
       "7      76561198149372302       NaN       NaN         NaN       NaN   \n",
       "8      76561198146272721       NaN       NaN         NaN       NaN   \n",
       "9      76561198145865948  0.145822  0.186421    0.199817  0.093023   \n",
       "10     76561198149384460  0.186455  0.174871    0.211177  0.057499   \n",
       "11     76561198145840475  0.209942  0.186523    0.217155  0.182831   \n",
       "12     76561198142504535  0.154296  0.145072    0.170792  0.043871   \n",
       "13     76561198146809346  0.169154  0.175151    0.191282  0.019602   \n",
       "14     76561198146965516  0.182767  0.179815    0.215903  0.045394   \n",
       "15     76561198146675752  0.147890  0.089559    0.162275  0.039361   \n",
       "16     76561198149513218  0.207886  0.191113    0.233959  0.045455   \n",
       "17     76561198144437912  0.238887  0.216830    0.223382  0.112621   \n",
       "18     76561198149742689  0.216915  0.213497    0.212899  0.043732   \n",
       "19     76561198143674751  0.188690  0.240988    0.227025  0.216406   \n",
       "20     76561198142303993  0.091398  0.094551    0.205128  0.011561   \n",
       "21     76561198148307694  0.217602  0.196394    0.225680  0.127246   \n",
       "22     76561198147884310       NaN       NaN    0.428571       NaN   \n",
       "23     76561198147052977  0.164838  0.162631    0.201617  0.072874   \n",
       "24     76561198149754711  0.177734  0.178396    0.212081  0.053060   \n",
       "25     76561198148771207  0.161318  0.166859    0.212404  0.094449   \n",
       "26     76561198145893155  0.143240  0.142066    0.162562  0.059594   \n",
       "27     76561198149512335  0.127451  0.111111    0.150000  0.000000   \n",
       "28     76561198149101132  0.158467  0.145623    0.165584  0.064937   \n",
       "29     76561198142601331  0.169072  0.160282    0.160732  0.026772   \n",
       "...                  ...       ...       ...         ...       ...   \n",
       "26503  76561198142651440  0.189299  0.182366    0.206468  0.050915   \n",
       "26504  76561198146716460  0.180210  0.167104    0.209586  0.092035   \n",
       "26505  76561198145959568  0.163460  0.158574    0.174872  0.040379   \n",
       "26506  76561198146372861  0.071429  0.141711    0.178571  0.141176   \n",
       "26507  76561198142813676  0.164202  0.180273    0.190696  0.076053   \n",
       "26508  76561198146048077  0.212174  0.186402    0.207245  0.071699   \n",
       "26509  76561198148271950  0.221834  0.202357    0.251699  0.049651   \n",
       "26510  76561198144123752  0.154676  0.166963    0.160370  0.052168   \n",
       "26511  76561198148386125  0.202857  0.284483    0.328947       NaN   \n",
       "26512  76561198148970472  0.184894  0.166652    0.186532  0.077442   \n",
       "26513  76561198142814804  0.166822  0.177439    0.183695  0.045667   \n",
       "26514  76561198144422053  0.193124  0.211617    0.206493  0.397274   \n",
       "26515  76561198141209866  0.135443  0.128316    0.125353  0.000000   \n",
       "26516  76561198144074897  0.147614  0.131673    0.161042  0.019825   \n",
       "26517  76561198141819656  0.168643  0.152369    0.196795  0.051992   \n",
       "26518  76561198141785407  0.286624  0.124567    0.437500       NaN   \n",
       "26519  76561198141267882  0.170612  0.181076    0.175291  0.125957   \n",
       "26520  76561198142659294  0.179475  0.173244    0.187637  0.058386   \n",
       "26521  76561198144098591  0.152276  0.156338    0.274838  0.082569   \n",
       "26522  76561198145045188  0.226709  0.212799    0.232784  0.058631   \n",
       "26523  76561198143726420  0.205681  0.184822    0.221444  0.071429   \n",
       "26524  76561198148513833  0.202514  0.190815    0.215644  0.125453   \n",
       "26525  76561198141093138  0.138116  0.130252    0.106020  0.050633   \n",
       "26526  76561198146411348  0.156566  0.182038    0.186908  0.040415   \n",
       "26527  76561198141122072  0.083333  0.160000    0.320388  0.094595   \n",
       "26528  76561198146434623  0.194739  0.176726    0.190196  0.073074   \n",
       "26529  76561198148690767  0.224194  0.240399    0.234311  0.094406   \n",
       "26530  76561198145877663  0.172963  0.185060    0.213128  0.035260   \n",
       "26531  76561198141438387  0.273495  0.278664    0.368347  0.142152   \n",
       "26532  76561198149165676  0.229982  0.224806    0.249423  0.121430   \n",
       "\n",
       "       sniper_acc  total_acc  total_matches_played  \n",
       "0             NaN   0.351852                   0.0  \n",
       "1        0.299291   0.154816                3431.0  \n",
       "2        0.352375   0.177514                1038.0  \n",
       "3        0.333579   0.192323                3336.0  \n",
       "4        0.367503   0.186940                1635.0  \n",
       "5        0.351080   0.216497                 869.0  \n",
       "6        0.267341   0.143320                1065.0  \n",
       "7             NaN        NaN                   0.0  \n",
       "8             NaN        NaN                   0.0  \n",
       "9        0.443662   0.163455                  24.0  \n",
       "10       0.396146   0.198989                 385.0  \n",
       "11       0.390245   0.203385                3098.0  \n",
       "12       0.317962   0.171720                1475.0  \n",
       "13       0.354395   0.161759                 305.0  \n",
       "14       0.297421   0.177252                 725.0  \n",
       "15       0.324613   0.127420                 368.0  \n",
       "16       0.319746   0.202320                1433.0  \n",
       "17       0.454514   0.230306                1804.0  \n",
       "18       0.287051   0.212877                 403.0  \n",
       "19       0.400540   0.210866                 661.0  \n",
       "20       0.333333   0.125416                   9.0  \n",
       "21       0.389779   0.214461                 666.0  \n",
       "22            NaN   0.428571                   0.0  \n",
       "23       0.298254   0.170670                 492.0  \n",
       "24       0.329225   0.189294                1901.0  \n",
       "25       0.349244   0.175765                 768.0  \n",
       "26       0.259347   0.152153                3214.0  \n",
       "27            NaN   0.102740                   2.0  \n",
       "28       0.303664   0.155155                 790.0  \n",
       "29       0.284700   0.167773                 859.0  \n",
       "...           ...        ...                   ...  \n",
       "26503    0.371110   0.187471                 907.0  \n",
       "26504    0.328676   0.190376                1083.0  \n",
       "26505    0.356267   0.160381                 256.0  \n",
       "26506    0.222222   0.154286                   1.0  \n",
       "26507    0.320043   0.174745                3596.0  \n",
       "26508    0.349104   0.207529                 446.0  \n",
       "26509    0.466857   0.223879                 609.0  \n",
       "26510    0.324383   0.163813                3019.0  \n",
       "26511    0.461538   0.232143                   0.0  \n",
       "26512    0.272125   0.181045                2940.0  \n",
       "26513    0.381515   0.159618                 754.0  \n",
       "26514    0.317095   0.203805                1034.0  \n",
       "26515    0.394068   0.145516                  26.0  \n",
       "26516    0.283448   0.153505                 479.0  \n",
       "26517    0.305484   0.165247                 895.0  \n",
       "26518         NaN   0.180113                   3.0  \n",
       "26519    0.333456   0.172055                4982.0  \n",
       "26520    0.256534   0.179158                3493.0  \n",
       "26521    0.250000   0.191285                   4.0  \n",
       "26522    0.474330   0.227181                1755.0  \n",
       "26523    0.459016   0.197951                  55.0  \n",
       "26524    0.360350   0.209510                1291.0  \n",
       "26525    0.425197   0.134217                  17.0  \n",
       "26526    0.271074   0.166296                1739.0  \n",
       "26527         NaN   0.173375                   1.0  \n",
       "26528    0.295090   0.187024                1739.0  \n",
       "26529    0.472409   0.237008                  99.0  \n",
       "26530    0.422917   0.185612                 399.0  \n",
       "26531    0.549091   0.270788                  43.0  \n",
       "26532    0.406264   0.240658                1067.0  \n",
       "\n",
       "[26533 rows x 8 columns]"
      ]
     },
     "execution_count": 256,
     "metadata": {},
     "output_type": "execute_result"
    }
   ],
   "source": [
    "final_df"
   ]
  },
  {
   "cell_type": "markdown",
   "metadata": {},
   "source": [
    "#### We still have a number of players which have almost no games played. Below I filter out all players that have not played 30 games or more. A minimum of 30 matches player is the requirement for playing competitive matches. Due to the law of large numbers this will minimize variance in players which barely play the game. There is no need to classify them as cheaters since they did not fire the weapon much yet."
   ]
  },
  {
   "cell_type": "code",
   "execution_count": 257,
   "metadata": {
    "collapsed": true
   },
   "outputs": [],
   "source": [
    "final_df = final_df.loc[(final_df[\"total_matches_played\"]>=30)]"
   ]
  },
  {
   "cell_type": "code",
   "execution_count": 291,
   "metadata": {
    "collapsed": true
   },
   "outputs": [],
   "source": [
    "final_df = final_df.fillna(0)\n",
    "final_cols = [\"AR_acc\", \"SMG_acc\",\"pistol_acc\",\"LMG_acc\",\"sniper_acc\",\"total_acc\", \"is_cheater\"]\n",
    "final_df = df[final_cols]"
   ]
  },
  {
   "cell_type": "code",
   "execution_count": 260,
   "metadata": {},
   "outputs": [
    {
     "data": {
      "image/png": "[encoded data removed]",
      "text/plain": [
       "<matplotlib.figure.Figure at 0x1a1a9c88d0>"
      ]
     },
     "metadata": {},
     "output_type": "display_data"
    }
   ],
   "source": [
    "plt.hist([final_df[\"total_acc\"]])\n",
    "plt.show()"
   ]
  },
  {
   "cell_type": "code",
   "execution_count": 261,
   "metadata": {
    "scrolled": false
   },
   "outputs": [
    {
     "data": {
      "image/png": "[encoded data removed]",
      "text/plain": [
       "<matplotlib.figure.Figure at 0x1a1a815fd0>"
      ]
     },
     "metadata": {},
     "output_type": "display_data"
    }
   ],
   "source": [
    "plt.hist([final_df[\"sniper_acc\"]],range = [0, 1])\n",
    "plt.show()"
   ]
  },
  {
   "cell_type": "code",
   "execution_count": 262,
   "metadata": {},
   "outputs": [
    {
     "data": {
      "image/png": "[encoded data removed]",
      "text/plain": [
       "<matplotlib.figure.Figure at 0x1a10da87b8>"
      ]
     },
     "metadata": {},
     "output_type": "display_data"
    }
   ],
   "source": [
    "plt.hist([final_df[\"AR_acc\"]],range = [0, 1])\n",
    "plt.show()"
   ]
  },
  {
   "cell_type": "code",
   "execution_count": 263,
   "metadata": {},
   "outputs": [
    {
     "data": {
      "image/png": "[encoded data removed]",
      "text/plain": [
       "<matplotlib.figure.Figure at 0x1a10eb3c88>"
      ]
     },
     "metadata": {},
     "output_type": "display_data"
    }
   ],
   "source": [
    "plt.hist([final_df[\"SMG_acc\"]],range = [0, 1])\n",
    "plt.show()"
   ]
  },
  {
   "cell_type": "code",
   "execution_count": 264,
   "metadata": {},
   "outputs": [
    {
     "data": {
      "image/png": "[encoded data removed]",
      "text/plain": [
       "<matplotlib.figure.Figure at 0x1a1b0e4668>"
      ]
     },
     "metadata": {},
     "output_type": "display_data"
    }
   ],
   "source": [
    "plt.hist([final_df[\"LMG_acc\"]],range = [0, 1])\n",
    "plt.show()"
   ]
  },
  {
   "cell_type": "code",
   "execution_count": 265,
   "metadata": {},
   "outputs": [
    {
     "data": {
      "image/png": "[encoded data removed]",
      "text/plain": [
       "<matplotlib.figure.Figure at 0x1a19d185f8>"
      ]
     },
     "metadata": {},
     "output_type": "display_data"
    }
   ],
   "source": [
    "plt.hist([final_df[\"pistol_acc\"]],range = [0, 1])\n",
    "plt.show()"
   ]
  },
  {
   "cell_type": "code",
   "execution_count": 269,
   "metadata": {},
   "outputs": [
    {
     "data": {
      "text/plain": [
       "21253"
      ]
     },
     "execution_count": 269,
     "metadata": {},
     "output_type": "execute_result"
    }
   ],
   "source": [
    "len(final_df)"
   ]
  },
  {
   "cell_type": "code",
   "execution_count": 272,
   "metadata": {},
   "outputs": [
    {
     "data": {
      "text/plain": [
       "1662"
      ]
     },
     "execution_count": 272,
     "metadata": {},
     "output_type": "execute_result"
    }
   ],
   "source": [
    "len(final_df.loc[(final_df[\"is_cheater\"]==1)])"
   ]
  },
  {
   "cell_type": "code",
   "execution_count": 273,
   "metadata": {
    "collapsed": true
   },
   "outputs": [],
   "source": [
    "cheater_set = final_df.loc[(final_df[\"is_cheater\"]==1)]\n",
    "normal_set = final_df.loc[(final_df[\"is_cheater\"]==0)]"
   ]
  },
  {
   "cell_type": "code",
   "execution_count": 274,
   "metadata": {},
   "outputs": [
    {
     "name": "stderr",
     "output_type": "stream",
     "text": [
      "/Users/Brennan/anaconda3/lib/python3.6/site-packages/numpy/core/fromnumeric.py:57: FutureWarning: reshape is deprecated and will raise in a subsequent release. Please use .values.reshape(...) instead\n",
      "  return getattr(obj, method)(*args, **kwds)\n"
     ]
    },
    {
     "data": {
      "image/png": "[encoded data removed]",
      "text/plain": [
       "<matplotlib.figure.Figure at 0x1a19ee7ac8>"
      ]
     },
     "metadata": {},
     "output_type": "display_data"
    }
   ],
   "source": [
    "plt.hist([cheater_set[\"sniper_acc\"],normal_set[\"sniper_acc\"]], stacked = 1, color = ['r', 'b'])\n",
    "plt.title(\"Sniper Accuracy\")\n",
    "plt.show()"
   ]
  },
  {
   "cell_type": "code",
   "execution_count": 275,
   "metadata": {},
   "outputs": [
    {
     "name": "stderr",
     "output_type": "stream",
     "text": [
      "/Users/Brennan/anaconda3/lib/python3.6/site-packages/numpy/core/fromnumeric.py:57: FutureWarning: reshape is deprecated and will raise in a subsequent release. Please use .values.reshape(...) instead\n",
      "  return getattr(obj, method)(*args, **kwds)\n"
     ]
    },
    {
     "data": {
      "image/png": "[encoded data removed]",
      "text/plain": [
       "<matplotlib.figure.Figure at 0x1a19ee7080>"
      ]
     },
     "metadata": {},
     "output_type": "display_data"
    }
   ],
   "source": [
    "plt.hist([cheater_set[\"SMG_acc\"],normal_set[\"SMG_acc\"]], stacked = 1, color = ['r', 'b'])\n",
    "plt.title(\"SMG Accuracy\")\n",
    "plt.show()"
   ]
  },
  {
   "cell_type": "code",
   "execution_count": 276,
   "metadata": {},
   "outputs": [
    {
     "name": "stderr",
     "output_type": "stream",
     "text": [
      "/Users/Brennan/anaconda3/lib/python3.6/site-packages/numpy/core/fromnumeric.py:57: FutureWarning: reshape is deprecated and will raise in a subsequent release. Please use .values.reshape(...) instead\n",
      "  return getattr(obj, method)(*args, **kwds)\n"
     ]
    },
    {
     "data": {
      "image/png": "[encoded data removed]",
      "text/plain": [
       "<matplotlib.figure.Figure at 0x1a10b18ef0>"
      ]
     },
     "metadata": {},
     "output_type": "display_data"
    }
   ],
   "source": [
    "plt.hist([cheater_set[\"LMG_acc\"],normal_set[\"LMG_acc\"]], stacked = 1, color = ['r', 'b'])\n",
    "plt.title(\"LMG Accuracy\")\n",
    "plt.show()"
   ]
  },
  {
   "cell_type": "code",
   "execution_count": 277,
   "metadata": {},
   "outputs": [
    {
     "name": "stderr",
     "output_type": "stream",
     "text": [
      "/Users/Brennan/anaconda3/lib/python3.6/site-packages/numpy/core/fromnumeric.py:57: FutureWarning: reshape is deprecated and will raise in a subsequent release. Please use .values.reshape(...) instead\n",
      "  return getattr(obj, method)(*args, **kwds)\n"
     ]
    },
    {
     "data": {
      "image/png": "[encoded data removed]",
      "text/plain": [
       "<matplotlib.figure.Figure at 0x1a1a7f1f98>"
      ]
     },
     "metadata": {},
     "output_type": "display_data"
    }
   ],
   "source": [
    "plt.hist([cheater_set[\"AR_acc\"],normal_set[\"AR_acc\"]], stacked = 1, color = ['r', 'b'])\n",
    "plt.title(\"Assult Rifle Accuracy\")\n",
    "plt.show()"
   ]
  },
  {
   "cell_type": "code",
   "execution_count": 278,
   "metadata": {},
   "outputs": [
    {
     "name": "stderr",
     "output_type": "stream",
     "text": [
      "/Users/Brennan/anaconda3/lib/python3.6/site-packages/numpy/core/fromnumeric.py:57: FutureWarning: reshape is deprecated and will raise in a subsequent release. Please use .values.reshape(...) instead\n",
      "  return getattr(obj, method)(*args, **kwds)\n"
     ]
    },
    {
     "data": {
      "image/png": "[encoded data removed]",
      "text/plain": [
       "<matplotlib.figure.Figure at 0x1a1095d828>"
      ]
     },
     "metadata": {},
     "output_type": "display_data"
    }
   ],
   "source": [
    "plt.hist([cheater_set[\"pistol_acc\"],normal_set[\"pistol_acc\"]], stacked = 1, color = ['r', 'b'])\n",
    "plt.title(\"Pistol Accuracy\")\n",
    "plt.show()"
   ]
  },
  {
   "cell_type": "code",
   "execution_count": 279,
   "metadata": {},
   "outputs": [
    {
     "name": "stderr",
     "output_type": "stream",
     "text": [
      "/Users/Brennan/anaconda3/lib/python3.6/site-packages/numpy/core/fromnumeric.py:57: FutureWarning: reshape is deprecated and will raise in a subsequent release. Please use .values.reshape(...) instead\n",
      "  return getattr(obj, method)(*args, **kwds)\n"
     ]
    },
    {
     "data": {
      "image/png": "[encoded data removed]",
      "text/plain": [
       "<matplotlib.figure.Figure at 0x1a10b3e160>"
      ]
     },
     "metadata": {},
     "output_type": "display_data"
    }
   ],
   "source": [
    "plt.hist([cheater_set[\"total_acc\"],normal_set[\"total_acc\"]], stacked = 1, color = ['r', 'b'])\n",
    "plt.title(\"All Weapon Accuracy\")\n",
    "plt.show()"
   ]
  },
  {
   "cell_type": "code",
   "execution_count": 281,
   "metadata": {
    "collapsed": true
   },
   "outputs": [],
   "source": [
    "X_train, X_test, y_train, y_test = train_test_split(final_df.drop('is_cheater', axis=1), final_df[\"is_cheater\"], test_size=0.20, random_state=42)"
   ]
  },
  {
   "cell_type": "code",
   "execution_count": 247,
   "metadata": {
    "collapsed": true
   },
   "outputs": [],
   "source": [
    "def confusionCheck(y_pred, y_test):\n",
    "    \n",
    "    y_check = list(y_test)\n",
    "    y_pred = list(y_pred)\n",
    "\n",
    "    true_positive = 0\n",
    "    true_negative = 0\n",
    "    false_positive = 0\n",
    "    false_negative = 0\n",
    "    \n",
    "    i = 0\n",
    "    while i < len(results)-1:\n",
    "        if y_pred[i] == 1 and y_check[i] == 1:\n",
    "            true_positive += 1\n",
    "        elif y_pred[i] == 1 and y_check[i] == 0:\n",
    "            false_positive += 1\n",
    "        elif y_pred[i] == 0 and y_check[i] == 0:\n",
    "            true_negative += 1\n",
    "        else: \n",
    "            false_negative += 1\n",
    "        i += 1\n",
    "\n",
    "\n",
    "\n",
    "    print(\"True Positive \"+str(true_positive))\n",
    "\n",
    "    print(\"True Negative \"+str(true_negative))\n",
    "\n",
    "    print(\"False Positive \"+str(false_positive))\n",
    "\n",
    "    print(\"False Negative \"+str(false_negative))\n"
   ]
  },
  {
   "cell_type": "code",
   "execution_count": 283,
   "metadata": {},
   "outputs": [
    {
     "name": "stdout",
     "output_type": "stream",
     "text": [
      "0.918842625265\n"
     ]
    }
   ],
   "source": [
    "resultsCorrect = []\n",
    "\n",
    "knn = KNeighborsClassifier()\n",
    "knn.fit(X_train, y_train) \n",
    "KNeighborsClassifier(algorithm='auto', leaf_size=15, metric='minkowski',\n",
    "       metric_params=None, n_jobs=1, n_neighbors=2, p=2,\n",
    "       weights='uniform')\n",
    "results = knn.predict(X_test)\n",
    "print(np.mean(results == y_test))\n",
    "\n"
   ]
  },
  {
   "cell_type": "code",
   "execution_count": 285,
   "metadata": {},
   "outputs": [
    {
     "name": "stdout",
     "output_type": "stream",
     "text": [
      "True Positive 2\n",
      "True Negative 314\n",
      "False Positive 3904\n",
      "False Negative 31\n"
     ]
    }
   ],
   "source": [
    "y_check = list(y_test)\n",
    "\n",
    "true_positive = 0\n",
    "true_negative = 0\n",
    "false_positive = 0\n",
    "false_negative = 0\n",
    "i = 0\n",
    "while i < len(results):\n",
    "    if results[i] == 1 & y_check[i] == 1:\n",
    "        true_positive += 1\n",
    "    elif results[i] == 1 & y_check[i] == 0:\n",
    "        false_positive += 1\n",
    "    elif results[i] == 0 & y_check[i] == 0:\n",
    "        true_negative += 1\n",
    "    else: \n",
    "        false_negative += 1\n",
    "    i += 1\n",
    "    \n",
    "\n",
    "\n",
    "\n",
    "print(\"True Positive \"+str(true_positive))\n",
    "\n",
    "print(\"True Negative \"+str(true_negative))\n",
    "\n",
    "print(\"False Positive \"+str(false_positive))\n",
    "\n",
    "print(\"False Negative \"+str(false_negative))\n"
   ]
  },
  {
   "cell_type": "code",
   "execution_count": 244,
   "metadata": {
    "collapsed": true
   },
   "outputs": [],
   "source": [
    "import imblearn\n",
    "from imblearn.over_sampling import SMOTE\n",
    "-\n",
    "oversample = SMOTE()\n",
    "X,y = oversample.fit_resample(X_train, y_train)"
   ]
  },
  {
   "cell_type": "code",
   "execution_count": 286,
   "metadata": {},
   "outputs": [
    {
     "name": "stdout",
     "output_type": "stream",
     "text": [
      "0.635144671842\n",
      "True Positive 121\n",
      "True Negative 2578\n",
      "False Positive 1357\n",
      "False Negative 194\n"
     ]
    }
   ],
   "source": [
    "resultsCorrect = []\n",
    "\n",
    "knn = KNeighborsClassifier()\n",
    "knn.fit(X, y) \n",
    "KNeighborsClassifier(algorithm='auto', leaf_size=15, metric='minkowski',\n",
    "       metric_params=None, n_jobs=1, n_neighbors=2, p=2,\n",
    "       weights='uniform')\n",
    "results = knn.predict(X_test)\n",
    "print(np.mean(results == y_test))\n",
    "\n",
    "confusionCheck(y_pred=results, y_test=y_test)\n"
   ]
  },
  {
   "cell_type": "code",
   "execution_count": 246,
   "metadata": {},
   "outputs": [
    {
     "name": "stdout",
     "output_type": "stream",
     "text": [
      "0.968007527641\n",
      "True Positive 315\n",
      "True Negative 3799\n",
      "False Positive 136\n",
      "False Negative 0\n"
     ]
    }
   ],
   "source": [
    "from sklearn.datasets import make_classification\n",
    "from sklearn.ensemble import RandomForestClassifier\n",
    "\n",
    "clf = RandomForestClassifier(max_depth=9, random_state=0)\n",
    "clf.fit(X, y)\n",
    "\n",
    "results = clf.predict(X_test)\n",
    "\n",
    "print(accuracy_score(y_test, results, normalize=True))\n",
    "confusionCheck(y_pred=results, y_test=y_test)\n"
   ]
  },
  {
   "cell_type": "code",
   "execution_count": 249,
   "metadata": {},
   "outputs": [
    {
     "name": "stdout",
     "output_type": "stream",
     "text": [
      "0.959538932016\n",
      "True Positive 313\n",
      "True Negative 3765\n",
      "False Positive 170\n",
      "False Negative 2\n"
     ]
    }
   ],
   "source": [
    "import numpy as np\n",
    "from sklearn.pipeline import make_pipeline\n",
    "from sklearn.preprocessing import StandardScaler\n",
    "\n",
    "from sklearn.svm import SVC\n",
    "clf = make_pipeline(StandardScaler(), SVC(gamma='auto'))\n",
    "clf.fit(X, y)\n",
    "results = clf.predict(X_test)\n",
    "print(accuracy_score(y_test, results, normalize=True))\n",
    "\n",
    "confusionCheck(y_pred=results, y_test=y_test)"
   ]
  },
  {
   "cell_type": "code",
   "execution_count": 290,
   "metadata": {},
   "outputs": [
    {
     "name": "stdout",
     "output_type": "stream",
     "text": [
      "0.972241825453\n",
      "True Positive 315\n",
      "True Negative 3817\n",
      "False Positive 118\n",
      "False Negative 0\n"
     ]
    }
   ],
   "source": [
    "from sklearn.datasets import make_classification\n",
    "from sklearn.ensemble import GradientBoostingClassifier\n",
    "from sklearn.model_selection import train_test_split\n",
    "\n",
    "clf = GradientBoostingClassifier(loss=\"exponential\",random_state=0)\n",
    "clf.fit(X, y)\n",
    "results = clf.predict(X_test)\n",
    "from sklearn.metrics import accuracy_score\n",
    "print(accuracy_score(y_test, results, normalize=True))\n",
    "\n",
    "confusionCheck(y_pred=results, y_test=y_test)"
   ]
  },
  {
   "cell_type": "code",
   "execution_count": null,
   "metadata": {
    "collapsed": true
   },
   "outputs": [],
   "source": []
  }
 ],
 "metadata": {
  "kernelspec": {
   "display_name": "Python 3",
   "language": "python",
   "name": "python3"
  },
  "language_info": {
   "codemirror_mode": {
    "name": "ipython",
    "version": 3
   },
   "file_extension": ".py",
   "mimetype": "text/x-python",
   "name": "python",
   "nbconvert_exporter": "python",
   "pygments_lexer": "ipython3",
   "version": "3.6.3"
  }
 },
 "nbformat": 4,
 "nbformat_minor": 2
}
